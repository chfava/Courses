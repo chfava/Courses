{
 "cells": [
  {
   "cell_type": "code",
   "execution_count": 2,
   "metadata": {},
   "outputs": [],
   "source": [
    "from pomegranate import *\n"
   ]
  },
  {
   "cell_type": "code",
   "execution_count": 1,
   "metadata": {},
   "outputs": [
    {
     "name": "stdout",
     "output_type": "stream",
     "text": [
      "['T' 'T' 'T' 'F'\n",
      " {\n",
      "    \"class\" :\"Distribution\",\n",
      "    \"dtype\" :\"str\",\n",
      "    \"name\" :\"DiscreteDistribution\",\n",
      "    \"parameters\" :[\n",
      "        {\n",
      "            \"T\" :1.0,\n",
      "            \"F\" :0.0\n",
      "        }\n",
      "    ],\n",
      "    \"frozen\" :false\n",
      "}]\n"
     ]
    },
    {
     "ename": "ValueError",
     "evalue": "must have pygraphviz installed for visualization",
     "output_type": "error",
     "traceback": [
      "\u001b[0;31m---------------------------------------------------------------------------\u001b[0m",
      "\u001b[0;31mValueError\u001b[0m                                Traceback (most recent call last)",
      "\u001b[0;32m<ipython-input-1-c89508095220>\u001b[0m in \u001b[0;36m<module>\u001b[0;34m\u001b[0m\n\u001b[1;32m     55\u001b[0m \u001b[0;34m\u001b[0m\u001b[0m\n\u001b[1;32m     56\u001b[0m \u001b[0mprint\u001b[0m\u001b[0;34m(\u001b[0m\u001b[0mmodel\u001b[0m\u001b[0;34m.\u001b[0m\u001b[0mpredict_proba\u001b[0m\u001b[0;34m(\u001b[0m\u001b[0;34m[\u001b[0m\u001b[0;34m'T'\u001b[0m\u001b[0;34m,\u001b[0m \u001b[0;34m'T'\u001b[0m\u001b[0;34m,\u001b[0m \u001b[0;34m'T'\u001b[0m\u001b[0;34m,\u001b[0m \u001b[0;34m'F'\u001b[0m\u001b[0;34m,\u001b[0m \u001b[0;32mNone\u001b[0m\u001b[0;34m]\u001b[0m\u001b[0;34m)\u001b[0m\u001b[0;34m)\u001b[0m\u001b[0;34m\u001b[0m\u001b[0;34m\u001b[0m\u001b[0m\n\u001b[0;32m---> 57\u001b[0;31m \u001b[0mprint\u001b[0m\u001b[0;34m(\u001b[0m\u001b[0mmodel\u001b[0m\u001b[0;34m.\u001b[0m\u001b[0mplot\u001b[0m\u001b[0;34m(\u001b[0m\u001b[0;34m)\u001b[0m\u001b[0;34m)\u001b[0m\u001b[0;34m\u001b[0m\u001b[0;34m\u001b[0m\u001b[0m\n\u001b[0m",
      "\u001b[0;32m~/anaconda3/lib/python3.7/site-packages/pomegranate/BayesianNetwork.pyx\u001b[0m in \u001b[0;36mpomegranate.BayesianNetwork.BayesianNetwork.plot\u001b[0;34m()\u001b[0m\n",
      "\u001b[0;31mValueError\u001b[0m: must have pygraphviz installed for visualization"
     ]
    }
   ],
   "source": [
    "from pomegranate import *\n",
    "\n",
    "QS4A = DiscreteDistribution({'T': 0.5, 'F': 0.5})\n",
    "QS4B = DiscreteDistribution({'T': 0.5, 'F': 0.5})\n",
    "QS4C = DiscreteDistribution({'T': 0.5, 'F': 0.5})\n",
    "QS4D = DiscreteDistribution({'T': 0.5, 'F': 0.5})\n",
    "QS4 = ConditionalProbabilityTable(\n",
    "        [\n",
    "        ['F', 'F', 'F', 'F', 'T', 0],\n",
    "        ['F', 'F', 'F', 'T', 'T', 1],\n",
    "        ['F', 'F', 'T', 'F', 'T', 1],\n",
    "        ['F', 'F', 'T', 'T', 'T', 1],\n",
    "        ['F', 'T', 'F', 'F', 'T', 1],\n",
    "        ['F', 'T', 'F', 'T', 'T', 1],\n",
    "        ['F', 'T', 'T', 'F', 'T', 1],\n",
    "        ['F', 'T', 'T', 'T', 'T', 1],\n",
    "        ['T', 'F', 'F', 'F', 'T', 1],\n",
    "        ['T', 'F', 'F', 'T', 'T', 1],\n",
    "        ['T', 'F', 'T', 'F', 'T', 1],\n",
    "        ['T', 'F', 'T', 'T', 'T', 1],\n",
    "        ['T', 'T', 'F', 'F', 'T', 1],\n",
    "        ['T', 'T', 'F', 'T', 'T', 1],\n",
    "        ['T', 'T', 'T', 'F', 'T', 1],\n",
    "        ['T', 'T', 'T', 'T', 'T', 1],\n",
    "        \n",
    "        ['F', 'F', 'F', 'F', 'F', 1],\n",
    "        ['F', 'F', 'F', 'T', 'F', 0],\n",
    "        ['F', 'F', 'T', 'F', 'F', 0],\n",
    "        ['F', 'F', 'T', 'T', 'F', 0],\n",
    "        ['F', 'T', 'F', 'F', 'F', 0],\n",
    "        ['F', 'T', 'F', 'T', 'F', 0],\n",
    "        ['F', 'T', 'T', 'F', 'F', 0],\n",
    "        ['F', 'T', 'T', 'T', 'F', 0],\n",
    "        ['T', 'F', 'F', 'F', 'F', 0],\n",
    "        ['T', 'F', 'F', 'T', 'F', 0],\n",
    "        ['T', 'F', 'T', 'F', 'F', 0],\n",
    "        ['T', 'F', 'T', 'T', 'F', 0],\n",
    "        ['T', 'T', 'F', 'F', 'F', 0],\n",
    "        ['T', 'T', 'F', 'T', 'F', 0],\n",
    "        ['T', 'T', 'T', 'F', 'F', 0],\n",
    "        ['T', 'T', 'T', 'T', 'F', 0]], [QS4A, QS4B, QS4C, QS4D])\n",
    "\n",
    "s1 = State(QS4, name=\"QS4\")\n",
    "s2 = State(QS4A, name=\"QS4A\")\n",
    "s3 = State(QS4B, name=\"QS4B\")\n",
    "s4 = State(QS4C, name=\"QS4C\")\n",
    "s5 = State(QS4D, name=\"QS4D\")\n",
    "model = BayesianNetwork(\"QS4\")\n",
    "model.add_states(s2, s3, s4, s5, s1)\n",
    "model.add_edge(s2, s1)\n",
    "model.add_edge(s3, s1)\n",
    "model.add_edge(s4, s1)\n",
    "model.add_edge(s5, s1)\n",
    "model.bake()\n",
    "\n",
    "print(model.predict_proba(['T', 'T', 'T', 'F', None]))\n",
    "print(model.plot())"
   ]
  },
  {
   "cell_type": "code",
   "execution_count": null,
   "metadata": {},
   "outputs": [],
   "source": [
    "s1 = State(QS4, name=\"QS4\")\n",
    "s2 = State(QS4A, name=\"QS4A\")\n",
    "s3 = State(QS4B, name=\"QS4B\")\n",
    "s4 = State(QS4C, name=\"QS4C\")\n",
    "s5 = State(QS4D, name=\"QS4D\")\n",
    "model = BayesianNetwork(\"QS4\")\n",
    "model.add_states(s1, s2, s3, s4, s5)\n",
    "model.add_edge(s2, s1)\n",
    "model.add_edge(s3, s1)\n",
    "model.add_edge(s4, s1)\n",
    "model.add_edge(s5, s1)\n",
    "model.bake()"
   ]
  },
  {
   "cell_type": "code",
   "execution_count": 6,
   "metadata": {},
   "outputs": [
    {
     "ename": "TypeError",
     "evalue": "__init__() takes at least 2 positional arguments (1 given)",
     "output_type": "error",
     "traceback": [
      "\u001b[0;31m---------------------------------------------------------------------------\u001b[0m",
      "\u001b[0;31mTypeError\u001b[0m                                 Traceback (most recent call last)",
      "\u001b[0;32m<ipython-input-6-2c72d8986849>\u001b[0m in \u001b[0;36m<module>\u001b[0;34m\u001b[0m\n\u001b[1;32m      3\u001b[0m \u001b[0mQS5\u001b[0m \u001b[0;34m=\u001b[0m \u001b[0mDiscreteDistribution\u001b[0m\u001b[0;34m(\u001b[0m\u001b[0;34m{\u001b[0m\u001b[0;34m'oui'\u001b[0m\u001b[0;34m:\u001b[0m \u001b[0;36m0.5\u001b[0m\u001b[0;34m,\u001b[0m \u001b[0;34m'non'\u001b[0m\u001b[0;34m:\u001b[0m \u001b[0;36m0.5\u001b[0m\u001b[0;34m}\u001b[0m\u001b[0;34m)\u001b[0m\u001b[0;34m\u001b[0m\u001b[0;34m\u001b[0m\u001b[0m\n\u001b[1;32m      4\u001b[0m \u001b[0mQS7\u001b[0m \u001b[0;34m=\u001b[0m \u001b[0mDiscreteDistribution\u001b[0m\u001b[0;34m(\u001b[0m\u001b[0;34m{\u001b[0m\u001b[0;34m'oui'\u001b[0m\u001b[0;34m:\u001b[0m \u001b[0;36m0.5\u001b[0m\u001b[0;34m,\u001b[0m \u001b[0;34m'non'\u001b[0m\u001b[0;34m:\u001b[0m \u001b[0;36m0.5\u001b[0m\u001b[0;34m}\u001b[0m\u001b[0;34m)\u001b[0m\u001b[0;34m\u001b[0m\u001b[0;34m\u001b[0m\u001b[0m\n\u001b[0;32m----> 5\u001b[0;31m \u001b[0mE1A\u001b[0m \u001b[0;34m=\u001b[0m \u001b[0mConditionalProbabilityTable\u001b[0m\u001b[0;34m(\u001b[0m\u001b[0;34m{\u001b[0m\u001b[0;34m'true'\u001b[0m\u001b[0;34m:\u001b[0m \u001b[0;36m0.5\u001b[0m\u001b[0;34m,\u001b[0m \u001b[0;34m'false'\u001b[0m\u001b[0;34m:\u001b[0m \u001b[0;36m0.5\u001b[0m\u001b[0;34m}\u001b[0m\u001b[0;34m)\u001b[0m\u001b[0;34m\u001b[0m\u001b[0;34m\u001b[0m\u001b[0m\n\u001b[0m\u001b[1;32m      6\u001b[0m E1A = ConditionalProbabilityTable(\n\u001b[1;32m      7\u001b[0m         [['a', 'oui', 'true', 0.0],\n",
      "\u001b[0;32m~/anaconda3/lib/python3.7/site-packages/pomegranate/distributions/ConditionalProbabilityTable.pyx\u001b[0m in \u001b[0;36mpomegranate.distributions.ConditionalProbabilityTable.ConditionalProbabilityTable.__init__\u001b[0;34m()\u001b[0m\n",
      "\u001b[0;31mTypeError\u001b[0m: __init__() takes at least 2 positional arguments (1 given)"
     ]
    }
   ],
   "source": [
    "QS3 = DiscreteDistribution({'a': 1./3, 'b': 1./3, 'c': 1./3})\n",
    "QS4 = DiscreteDistribution({'oui': 0.5, 'non': 0.5})\n",
    "QS5 = DiscreteDistribution({'oui': 0.5, 'non': 0.5})\n",
    "QS7 = DiscreteDistribution({'oui': 0.5, 'non': 0.5})\n",
    "E1A = ConditionalProbabilityTable(\n",
    "        [['a', 'oui', 'true', 0.0],\n",
    "         ['A', 'A', 'B', 0.5],\n",
    "         ['A', 'A', 'C', 0.5],\n",
    "         ['A', 'B', 'A', 0.0],\n",
    "         ['A', 'B', 'B', 0.0],\n",
    "         ['A', 'B', 'C', 1.0],\n",
    "         ['A', 'C', 'A', 0.0],\n",
    "         ['A', 'C', 'B', 1.0],\n",
    "         ['A', 'C', 'C', 0.0],\n",
    "         ['B', 'A', 'A', 0.0],\n",
    "         ['B', 'A', 'B', 0.0],\n",
    "         ['B', 'A', 'C', 1.0],\n",
    "         ['B', 'B', 'A', 0.5],\n",
    "         ['B', 'B', 'B', 0.0],\n",
    "         ['B', 'B', 'C', 0.5],\n",
    "         ['B', 'C', 'A', 1.0],\n",
    "         ['B', 'C', 'B', 0.0],\n",
    "         ['B', 'C', 'C', 0.0],\n",
    "         ['C', 'A', 'A', 0.0],\n",
    "         ['C', 'A', 'B', 1.0],\n",
    "         ['C', 'A', 'C', 0.0],\n",
    "         ['C', 'B', 'A', 1.0],\n",
    "         ['C', 'B', 'B', 0.0],\n",
    "         ['C', 'B', 'C', 0.0],\n",
    "         ['C', 'C', 'A', 0.5],\n",
    "         ['C', 'C', 'B', 0.5],\n",
    "         ['C', 'C', 'C', 0.0]], [QS3, QS4])"
   ]
  },
  {
   "cell_type": "code",
   "execution_count": null,
   "metadata": {},
   "outputs": [],
   "source": []
  }
 ],
 "metadata": {
  "kernelspec": {
   "display_name": "Python 3",
   "language": "python",
   "name": "python3"
  },
  "language_info": {
   "codemirror_mode": {
    "name": "ipython",
    "version": 3
   },
   "file_extension": ".py",
   "mimetype": "text/x-python",
   "name": "python",
   "nbconvert_exporter": "python",
   "pygments_lexer": "ipython3",
   "version": "3.7.3"
  }
 },
 "nbformat": 4,
 "nbformat_minor": 2
}
