{
 "cells": [
  {
   "cell_type": "code",
   "execution_count": 262,
   "metadata": {},
   "outputs": [],
   "source": [
    "import json\n",
    "import os\n",
    "import pandas as pd\n",
    "import numpy as np\n",
    "import math"
   ]
  },
  {
   "cell_type": "code",
   "execution_count": 84,
   "metadata": {},
   "outputs": [
    {
     "name": "stdout",
     "output_type": "stream",
     "text": [
      "Bayesian Network Diagnostic.ipynb  Data Exploration.ipynb\r\n"
     ]
    }
   ],
   "source": [
    "!ls"
   ]
  },
  {
   "cell_type": "code",
   "execution_count": 85,
   "metadata": {},
   "outputs": [
    {
     "name": "stdout",
     "output_type": "stream",
     "text": [
      "/root/workspace/Projet4Team5/AI\n",
      "/root/data_fixed.json\n"
     ]
    }
   ],
   "source": [
    "cwd = os.getcwd()\n",
    "print(cwd)\n",
    "#filename = cwd + \"/../../../data.json\"\n",
    "filename = \"/root/data_fixed.json\"\n",
    "print(filename)\n",
    "if filename:\n",
    "    with open(filename, 'r', encoding='utf-8') as f:\n",
    "        datastore = json.load(f)"
   ]
  },
  {
   "cell_type": "code",
   "execution_count": 86,
   "metadata": {},
   "outputs": [],
   "source": [
    "dataQuestionnaires = []\n",
    "for line in datastore['list']:\n",
    "    #print(line)\n",
    "    dataQuestionnaires.append(line['questions'])  "
   ]
  },
  {
   "cell_type": "code",
   "execution_count": 309,
   "metadata": {},
   "outputs": [
    {
     "data": {
      "text/plain": [
       "{'FIRST_NAME': 'Laurie',\n",
       " 'LAST_NAME': 'Vidal',\n",
       " 'SEXE': 'Femme',\n",
       " 'AGE': '33',\n",
       " 'DD1': 'La douleur apparait et disparait',\n",
       " 'DD2': 'Oui',\n",
       " 'DD3A': 'Oui',\n",
       " 'DD3B': 'Non',\n",
       " 'DD3C': 'Oui',\n",
       " 'DD3D': 'Oui',\n",
       " 'QS1': 'Oui',\n",
       " 'QS2': '48',\n",
       " 'QS3': 'Douleur qui vient et part',\n",
       " 'QS4A': 'Oui',\n",
       " 'QS4B': 'Non',\n",
       " 'QS4C': 'Oui',\n",
       " 'QS5': 'Oui',\n",
       " 'QS6': '48',\n",
       " 'QS7A': 'Oui',\n",
       " 'QS7B': 'Non',\n",
       " 'QS7C': 'Oui',\n",
       " 'QS7D': 'Non',\n",
       " 'QS8': 'Non',\n",
       " 'QS8E': 'NSP',\n",
       " 'QS9': 'Oui',\n",
       " 'QS9E': 'G',\n",
       " 'QS10': 'Oui',\n",
       " 'QS10E': 'G',\n",
       " 'QS11': 'Oui',\n",
       " 'QS11E': 'G',\n",
       " 'QS12': 'Non',\n",
       " 'QS12E': 'NSP',\n",
       " 'QS13': 'Non',\n",
       " 'QS13E': 'NSP',\n",
       " 'QS14': 'Non',\n",
       " 'QS14E': 'NSP',\n",
       " 'DEMO1': 'Marié(e)',\n",
       " 'DEMO2': 'Aude',\n",
       " 'DEMO3': 'Professions libérales et assimilés',\n",
       " 'DEMO4': 'Universitaire 2e ou 3e cycle',\n",
       " 'E1B_D': 'Non',\n",
       " 'E1B_G': 'Non',\n",
       " 'E1_DOUL_D_ATM': 'NA',\n",
       " 'E1_DOUL_D_DIGASTRIQUEPOS': 'D',\n",
       " 'E1_DOUL_D_MASSETER_BODY': 'NA',\n",
       " 'E1_DOUL_D_MASSETER_INSERTION': 'NA',\n",
       " 'E1_DOUL_D_MASSETER_ORIGIN': 'NA',\n",
       " 'E1_DOUL_D_PTERIGOIDIENMEDIAL': 'NA',\n",
       " 'E1_DOUL_D_TEMPORAL_ANTERIOR': 'D',\n",
       " 'E1_DOUL_D_TEMPORAL_MIDDLE': 'D',\n",
       " 'E1_DOUL_D_TEMPORAL_POSTERIOR': 'D',\n",
       " 'E1_DOUL_G_ATM': 'NA',\n",
       " 'E1_DOUL_G_DIGASTRIQUEPOS': 'NA',\n",
       " 'E1_DOUL_G_MASSETER_BODY': 'D',\n",
       " 'E1_DOUL_G_MASSETER_INSERTION': 'D',\n",
       " 'E1_DOUL_G_MASSETER_ORIGIN': 'D',\n",
       " 'E1_DOUL_G_PTERIGOIDIENMEDIAL': 'NA',\n",
       " 'E1_DOUL_G_TEMPORAL_ANTERIOR': 'D',\n",
       " 'E1_DOUL_G_TEMPORAL_MIDDLE': 'D',\n",
       " 'E1_DOUL_G_TEMPORAL_POSTERIOR': 'D',\n",
       " 'E2DIST_H': '2',\n",
       " 'E2DIST_MEDIA': '0',\n",
       " 'E2DIST_V': '2',\n",
       " 'E2NEG_H': 'negatif',\n",
       " 'E2NEG_V': 'negatif',\n",
       " 'E2REF': 'Null',\n",
       " 'E4A': '35',\n",
       " 'E4B': '35',\n",
       " 'E4C': '38',\n",
       " 'E4D': 'N',\n",
       " 'E4_MA_D_ATM': 'NA',\n",
       " 'E4_MA_D_DIGASTRIQUEPOS': 'NA',\n",
       " 'E4_MA_D_MASSETER_BODY': 'NA',\n",
       " 'E4_MA_D_MASSETER_INSERTION': 'NA',\n",
       " 'E4_MA_D_MASSETER_ORIGIN': 'NA',\n",
       " 'E4_MA_D_PTERIGOIDIENMEDIAL': 'NA',\n",
       " 'E4_MA_D_TEMPORAL_ANTERIOR': 'NA',\n",
       " 'E4_MA_D_TEMPORAL_MIDDLE': 'NA',\n",
       " 'E4_MA_D_TEMPORAL_POSTERIOR': 'NA',\n",
       " 'E4_MA_G_ATM': 'NA',\n",
       " 'E4_MA_G_DIGASTRIQUEPOS': 'NA',\n",
       " 'E4_MA_G_MASSETER_BODY': 'NA',\n",
       " 'E4_MA_G_MASSETER_INSERTION': 'NA',\n",
       " 'E4_MA_G_MASSETER_ORIGIN': 'NA',\n",
       " 'E4_MA_G_PTERIGOIDIENMEDIAL': 'NA',\n",
       " 'E4_MA_G_TEMPORAL_ANTERIOR': 'NA',\n",
       " 'E4_MA_G_TEMPORAL_MIDDLE': 'NA',\n",
       " 'E4_MA_G_TEMPORAL_POSTERIOR': 'NA',\n",
       " 'E4_MS_D_ATM': 'NA',\n",
       " 'E4_MS_D_DIGASTRIQUEPOS': 'NA',\n",
       " 'E4_MS_D_MASSETER_BODY': 'NA',\n",
       " 'E4_MS_D_MASSETER_INSERTION': 'NA',\n",
       " 'E4_MS_D_MASSETER_ORIGIN': 'NA',\n",
       " 'E4_MS_D_PTERIGOIDIENMEDIAL': 'NA',\n",
       " 'E4_MS_D_TEMPORAL_ANTERIOR': 'NA',\n",
       " 'E4_MS_D_TEMPORAL_MIDDLE': 'NA',\n",
       " 'E4_MS_D_TEMPORAL_POSTERIOR': 'NA',\n",
       " 'E4_MS_G_ATM': 'NA',\n",
       " 'E4_MS_G_DIGASTRIQUEPOS': 'NA',\n",
       " 'E4_MS_G_MASSETER_BODY': 'NA',\n",
       " 'E4_MS_G_MASSETER_INSERTION': 'NA',\n",
       " 'E4_MS_G_MASSETER_ORIGIN': 'NA',\n",
       " 'E4_MS_G_PTERIGOIDIENMEDIAL': 'NA',\n",
       " 'E4_MS_G_TEMPORAL_ANTERIOR': 'NA',\n",
       " 'E4_MS_G_TEMPORAL_MIDDLE': 'NA',\n",
       " 'E4_MS_G_TEMPORAL_POSTERIOR': 'NA',\n",
       " 'E5A': '06',\n",
       " 'E5B': '12',\n",
       " 'E5C': '12',\n",
       " 'E5D': 'Y',\n",
       " 'E5_LD_D_ATM': 'NA',\n",
       " 'E5_LD_D_DIGASTRIQUEPOS': 'NA',\n",
       " 'E5_LD_D_MASSETER_BODY': 'NA',\n",
       " 'E5_LD_D_MASSETER_INSERTION': 'NA',\n",
       " 'E5_LD_D_MASSETER_ORIGIN': 'NA',\n",
       " 'E5_LD_D_PTERIGOIDIENMEDIAL': 'NA',\n",
       " 'E5_LD_D_TEMPORAL_ANTERIOR': 'NA',\n",
       " 'E5_LD_D_TEMPORAL_MIDDLE': 'NA',\n",
       " 'E5_LD_D_TEMPORAL_POSTERIOR': 'NA',\n",
       " 'E5_LD_G_ATM': 'NA',\n",
       " 'E5_LD_G_DIGASTRIQUEPOS': 'NA',\n",
       " 'E5_LD_G_MASSETER_BODY': 'NA',\n",
       " 'E5_LD_G_MASSETER_INSERTION': 'NA',\n",
       " 'E5_LD_G_MASSETER_ORIGIN': 'NA',\n",
       " 'E5_LD_G_PTERIGOIDIENMEDIAL': 'NA',\n",
       " 'E5_LD_G_TEMPORAL_ANTERIOR': 'NA',\n",
       " 'E5_LD_G_TEMPORAL_MIDDLE': 'NA',\n",
       " 'E5_LD_G_TEMPORAL_POSTERIOR': 'NA',\n",
       " 'E5_LG_D_ATM': 'NA',\n",
       " 'E5_LG_D_DIGASTRIQUEPOS': 'NA',\n",
       " 'E5_LG_D_MASSETER_BODY': 'NA',\n",
       " 'E5_LG_D_MASSETER_INSERTION': 'NA',\n",
       " 'E5_LG_D_MASSETER_ORIGIN': 'NA',\n",
       " 'E5_LG_D_PTERIGOIDIENMEDIAL': 'NA',\n",
       " 'E5_LG_D_TEMPORAL_ANTERIOR': 'NA',\n",
       " 'E5_LG_D_TEMPORAL_MIDDLE': 'NA',\n",
       " 'E5_LG_D_TEMPORAL_POSTERIOR': 'NA',\n",
       " 'E5_LG_G_ATM': 'NA',\n",
       " 'E5_LG_G_DIGASTRIQUEPOS': 'NA',\n",
       " 'E5_LG_G_MASSETER_BODY': 'NA',\n",
       " 'E5_LG_G_MASSETER_INSERTION': 'NA',\n",
       " 'E5_LG_G_MASSETER_ORIGIN': 'NA',\n",
       " 'E5_LG_G_PTERIGOIDIENMEDIAL': 'NA',\n",
       " 'E5_LG_G_TEMPORAL_ANTERIOR': 'NA',\n",
       " 'E5_LG_G_TEMPORAL_MIDDLE': 'NA',\n",
       " 'E5_LG_G_TEMPORAL_POSTERIOR': 'NA',\n",
       " 'E5_PI_D_ATM': 'NA',\n",
       " 'E5_PI_D_DIGASTRIQUEPOS': 'NA',\n",
       " 'E5_PI_D_MASSETER_BODY': 'NA',\n",
       " 'E5_PI_D_MASSETER_INSERTION': 'NA',\n",
       " 'E5_PI_D_MASSETER_ORIGIN': 'NA',\n",
       " 'E5_PI_D_PTERIGOIDIENMEDIAL': 'NA',\n",
       " 'E5_PI_D_TEMPORAL_ANTERIOR': 'NA',\n",
       " 'E5_PI_D_TEMPORAL_MIDDLE': 'NA',\n",
       " 'E5_PI_D_TEMPORAL_POSTERIOR': 'NA',\n",
       " 'E5_PI_G_ATM': 'NA',\n",
       " 'E5_PI_G_DIGASTRIQUEPOS': 'NA',\n",
       " 'E5_PI_G_MASSETER_BODY': 'NA',\n",
       " 'E5_PI_G_MASSETER_INSERTION': 'NA',\n",
       " 'E5_PI_G_MASSETER_ORIGIN': 'NA',\n",
       " 'E5_PI_G_PTERIGOIDIENMEDIAL': 'NA',\n",
       " 'E5_PI_G_TEMPORAL_ANTERIOR': 'NA',\n",
       " 'E5_PI_G_TEMPORAL_MIDDLE': 'NA',\n",
       " 'E5_PI_G_TEMPORAL_POSTERIOR': 'NA',\n",
       " 'E6_CRAQ_FERM_D': 'N',\n",
       " 'E7_CRAQ_DOUL_G': 'N',\n",
       " 'E7_CREP_DOUL_HAB_G': 'N',\n",
       " 'E6_CREP_OUV_G': 'N',\n",
       " 'E6_CREP_DOUL_G': 'N',\n",
       " 'E7_CRAQ_FERM_D': 'N',\n",
       " 'E7_CREP_DOUL_G': 'N',\n",
       " 'E6_CREP_DOUL_D': 'N',\n",
       " 'E6_CREP_OUV_D': 'N',\n",
       " 'E6_CREP_DOUL_HAB_G': 'N',\n",
       " 'E6_CREP_DOU_HAB_D': 'N',\n",
       " 'E6_CRAQ_OUV_G': 'Y',\n",
       " 'E7_CRAQ_FERM_G': 'N',\n",
       " 'E6_CRAQ_DOUL_D': 'N',\n",
       " 'E6_CRAQ_DOUL_G': 'N',\n",
       " 'E6_CREP_PAT_G': 'N',\n",
       " 'E6_CRAQ_PAT_D': 'N',\n",
       " 'E6_CRAQ_FERM_G': 'Y',\n",
       " 'E7_CRAQ_OUV_D': 'N',\n",
       " 'E7_CREP_PAT_D': 'N',\n",
       " 'E6_CREP_FERM_G': 'N',\n",
       " 'E7_CREP_DOUL_D': 'N',\n",
       " 'E7_CRAQ_PAT_G': 'N',\n",
       " 'E7_CREP_FERM_G': 'N',\n",
       " 'E6_CRAQ_DOUL_HAB_D': 'N',\n",
       " 'E6_CREP_PAT_D': 'N',\n",
       " 'E6_CRAQ_PAT_G': 'Y',\n",
       " 'E7_CRAQ_OUV_G': 'N',\n",
       " 'E6_CRAQ_OUV_D': 'N',\n",
       " 'E7_CREP_OUV_D': 'N',\n",
       " 'E7_CRAQ_PAT_D': 'N',\n",
       " 'E7_CRAQ_DOUL_HAB_D': 'N',\n",
       " 'E7_CREP_DOUL_HAB_D': 'N',\n",
       " 'E7_CREP_FERM_D': 'N',\n",
       " 'E6_CRAQ_DOUL_HAB_G': 'Y',\n",
       " 'E7_CRAQ_DOUL_D': 'N',\n",
       " 'E6_CREP_FERM_D': 'N',\n",
       " 'E7_CREP_PAT_G': 'N',\n",
       " 'E7_CREP_OUV_G': 'N',\n",
       " 'E7_CRAQ_DOUL_HAB_G': 'N',\n",
       " 'E8_OUVERT_BLOC_D': 'N',\n",
       " 'E8_OUVERT_PAT_D': 'N',\n",
       " 'E8_OUVERT_EXAM_D': 'N',\n",
       " 'E8_OUVRANT_EXAM_G': 'N',\n",
       " 'E8_OUVERT_EXAM_G': 'N',\n",
       " 'E8_OUVERT_PAT_G': 'N',\n",
       " 'E8_OUVERT_BLOC_G': 'N',\n",
       " 'E8_OUVRANT_PAT_G': 'N',\n",
       " 'E8_OUVRANT_BLOC_D': 'N',\n",
       " 'E8_OUVRANT_EXAM_D': 'N',\n",
       " 'E8_OUVRANT_BLOC_G': 'N',\n",
       " 'E8_OUVRANT_PAT_D': 'N',\n",
       " 'E9_AL_DH_D': 'N',\n",
       " 'E9_AL_DH_G': 'Y',\n",
       " 'E9_AL_DOU_REF_D': 'N',\n",
       " 'E9_AL_MTH_D': 'N',\n",
       " 'E9_AL_MTH_G': 'N',\n",
       " 'E9_PALP_D_ATM': 'NA',\n",
       " 'E9_PALP_D_DIGASTRIQUEPOS': 'NA',\n",
       " 'E9_PALP_D_MASSETER_BODY': 'D',\n",
       " 'E9_PALP_D_MASSETER_INSERTION': 'D',\n",
       " 'E9_PALP_D_MASSETER_ORIGIN': 'D',\n",
       " 'E9_PALP_D_PTERIGOIDIENMEDIAL': 'NA',\n",
       " 'E9_PALP_D_TEMPORAL_ANTERIOR': 'D',\n",
       " 'E9_PALP_D_TEMPORAL_MIDDLE': 'D',\n",
       " 'E9_PALP_D_TEMPORAL_POSTERIOR': 'D',\n",
       " 'E9_PALP_G_ATM': 'NA',\n",
       " 'E9_PALP_G_DIGASTRIQUEPOS': 'NA',\n",
       " 'E9_PALP_G_MASSETER_BODY': 'D',\n",
       " 'E9_PALP_G_MASSETER_INSERTION': 'D',\n",
       " 'E9_PALP_G_MASSETER_ORIGIN': 'NA',\n",
       " 'E9_PALP_G_PTERIGOIDIENMEDIAL': 'NA',\n",
       " 'E9_PALP_G_TEMPORAL_ANTERIOR': 'D',\n",
       " 'E9_PALP_G_TEMPORAL_MIDDLE': 'D',\n",
       " 'E9_PALP_G_TEMPORAL_POSTERIOR': 'D',\n",
       " 'E9_PL_DH_D': 'N',\n",
       " 'E9_PL_DH_G': 'Y',\n",
       " 'E9_PL_DOU_REF_D': 'Y',\n",
       " 'E9_PL_DOU_REF_G': 'N',\n",
       " 'E9_PL_MTH_D': 'N',\n",
       " 'E9_PL_MTH_G': 'N',\n",
       " 'E10_REG_MAND_DOUL_D': 'Y',\n",
       " 'E10_REG_MAND_DOUL_G': 'N',\n",
       " 'E10_REG_MAND_DOUL_HAB_D': 'N',\n",
       " 'E10_REG_MAND_DOUL_HAB_G': 'N',\n",
       " 'E10_REG_MAND_DOUL_REF_D': 'N',\n",
       " 'E10_REG_MAND_DOUL_REF_G': 'N',\n",
       " 'E10_REG_PTER_DOUL_D': 'Y',\n",
       " 'E10_REG_PTER_DOUL_G': 'Y',\n",
       " 'E10_REG_PTER_DOUL_HAB_D': 'N',\n",
       " 'E10_REG_PTER_DOUL_HAB_G': 'N',\n",
       " 'E10_REG_PTER_DOUL_REF_D': 'N',\n",
       " 'E10_REG_PTER_DOUL_REF_G': 'N',\n",
       " 'E10_REG_SOUS_DOUL_D': 'Y',\n",
       " 'E10_REG_SOUS_DOUL_G': 'Y',\n",
       " 'E10_REG_SOUS_DOUL_HAB_D': 'N',\n",
       " 'E10_REG_SOUS_DOUL_HAB_G': 'N',\n",
       " 'E10_REG_SOUS_DOUL_REF_D': 'N',\n",
       " 'E10_REG_SOUS_DOUL_REF_G': 'N',\n",
       " 'E10_TEND_DOUL_D': 'N',\n",
       " 'E10_TEND_DOUL_G': 'Y',\n",
       " 'E10_TEND_DOUL_HAB_D': 'N',\n",
       " 'E10_TEND_DOUL_HAB_G': 'Y',\n",
       " 'E10_TEND_DOUL_REF_D': 'N',\n",
       " 'E10_TEND_DOUL_REF_G': 'N',\n",
       " 'E11_DATMD': 'Non',\n",
       " 'E11_DATMG': 'Déplacement du disque avec réduction et blocage interminent',\n",
       " 'E11_DD': 'MyalgieTemporalGauche',\n",
       " 'E13_Trait': 'Thérapies cognitives et comportementales (TCC)',\n",
       " 'MD_MOR_D_ATM': 'NA',\n",
       " 'MD_MOR_D_DIGASTRIQUEPOS': 'NA',\n",
       " 'MD_MOR_D_MASSETER_BODY': 'D',\n",
       " 'MD_MOR_D_MASSETER_INSERTION': 'D',\n",
       " 'MD_MOR_D_MASSETER_ORIGIN': 'D',\n",
       " 'MD_MOR_D_PTERIGOIDIENMEDIAL': 'NA',\n",
       " 'MD_MOR_D_TEMPORAL_ANTERIOR': 'D',\n",
       " 'MD_MOR_D_TEMPORAL_MIDDLE': 'D',\n",
       " 'MD_MOR_D_TEMPORAL_POSTERIOR': 'D',\n",
       " 'MD_MOR_G_ATM': 'NA',\n",
       " 'MD_MOR_G_DIGASTRIQUEPOS': 'NA',\n",
       " 'MD_MOR_G_MASSETER_BODY': 'D',\n",
       " 'MD_MOR_G_MASSETER_ORIGIN': 'D',\n",
       " 'MD_MOR_G_PTERIGOIDIENMEDIAL': 'NA',\n",
       " 'MD_MOR_G_TEMPORAL_ANTERIOR': 'D',\n",
       " 'MD_MOR_G_TEMPORAL_MIDDLE': 'D',\n",
       " 'MD_MOR_G_TEMPORAL_POSTERIOR': 'D',\n",
       " 'MD_MOR_G_MASSETER_INSERTION': 'D',\n",
       " 'MD1': '20',\n",
       " 'DC1': '20',\n",
       " 'DC2': '4',\n",
       " 'DC3': '3',\n",
       " 'DC4': '7',\n",
       " 'DC5': '4',\n",
       " 'DC6': '5',\n",
       " 'DC7': '5',\n",
       " 'DC8': '5',\n",
       " 'FM81': '2',\n",
       " 'FM82': '0',\n",
       " 'FM83': '0',\n",
       " 'FM84': '0',\n",
       " 'FM85': '0',\n",
       " 'FM86': '3',\n",
       " 'FM87': '2',\n",
       " 'FM88': '2',\n",
       " 'PHQ41': '2',\n",
       " 'PHQ42': '2',\n",
       " 'PHQ43': '1',\n",
       " 'PHQ44': '2',\n",
       " 'PHQ91': '3',\n",
       " 'PHQ92': '3',\n",
       " 'PHQ93': '0',\n",
       " 'PHQ94': '1',\n",
       " 'PHQ95': '3',\n",
       " 'PHQ96': '0',\n",
       " 'PHQ97': '1',\n",
       " 'GAD1': '3',\n",
       " 'GAD2': '3',\n",
       " 'GAD3': '3',\n",
       " 'GAD4': '3',\n",
       " 'GAD5': '2',\n",
       " 'GAD6': '2',\n",
       " 'GAD7': '1',\n",
       " 'OBC1': '1-3 Nuit/semaine',\n",
       " 'OBC2': '1-3 Nuit/mois',\n",
       " 'OBC3': 'Jamais',\n",
       " 'OBC4': '1 Nuit/mois',\n",
       " 'OBC5': '1-3 Nuit/semaine',\n",
       " 'OBC6': '4-7 Nuit/semaine',\n",
       " 'OBC7': '4-7 Nuit/semaine',\n",
       " 'OBC8': 'Jamais',\n",
       " 'OBC9': 'Jamais',\n",
       " 'OBC10': '4-7 Nuit/semaine',\n",
       " 'OBC11': '4-7 Nuit/semaine',\n",
       " 'OBC12': 'Jamais',\n",
       " 'OBC13': '1 Nuit/mois',\n",
       " 'OBC14': 'Jamais',\n",
       " 'OBC15': '1 Nuit/mois',\n",
       " 'OBC16': '1-3 Nuit/semaine',\n",
       " 'OBC17': '1-3 Nuit/semaine',\n",
       " 'OBC18': '1 Nuit/mois',\n",
       " 'OBC19': 'Jamais',\n",
       " 'OBC20': '1 Nuit/mois',\n",
       " 'OBC21': '1-3 Nuit/mois'}"
      ]
     },
     "execution_count": 309,
     "metadata": {},
     "output_type": "execute_result"
    }
   ],
   "source": [
    "dataQuestionnaires[1]"
   ]
  },
  {
   "cell_type": "code",
   "execution_count": 162,
   "metadata": {},
   "outputs": [],
   "source": [
    "df = pd.DataFrame(dataQuestionnaires)"
   ]
  },
  {
   "cell_type": "code",
   "execution_count": 163,
   "metadata": {},
   "outputs": [
    {
     "data": {
      "text/plain": [
       "(200, 422)"
      ]
     },
     "execution_count": 163,
     "metadata": {},
     "output_type": "execute_result"
    }
   ],
   "source": [
    "df.shape"
   ]
  },
  {
   "cell_type": "code",
   "execution_count": 164,
   "metadata": {},
   "outputs": [
    {
     "data": {
      "text/html": [
       "<div>\n",
       "<style scoped>\n",
       "    .dataframe tbody tr th:only-of-type {\n",
       "        vertical-align: middle;\n",
       "    }\n",
       "\n",
       "    .dataframe tbody tr th {\n",
       "        vertical-align: top;\n",
       "    }\n",
       "\n",
       "    .dataframe thead th {\n",
       "        text-align: right;\n",
       "    }\n",
       "</style>\n",
       "<table border=\"1\" class=\"dataframe\">\n",
       "  <thead>\n",
       "    <tr style=\"text-align: right;\">\n",
       "      <th></th>\n",
       "      <th>AGE</th>\n",
       "      <th>DC1</th>\n",
       "      <th>DC2</th>\n",
       "      <th>DC3</th>\n",
       "      <th>DC4</th>\n",
       "      <th>DC5</th>\n",
       "      <th>DC6</th>\n",
       "      <th>DC7</th>\n",
       "      <th>DC8</th>\n",
       "      <th>DD1</th>\n",
       "      <th>...</th>\n",
       "      <th>QS6</th>\n",
       "      <th>QS7A</th>\n",
       "      <th>QS7B</th>\n",
       "      <th>QS7C</th>\n",
       "      <th>QS7D</th>\n",
       "      <th>QS8</th>\n",
       "      <th>QS8E</th>\n",
       "      <th>QS9</th>\n",
       "      <th>QS9E</th>\n",
       "      <th>SEXE</th>\n",
       "    </tr>\n",
       "  </thead>\n",
       "  <tbody>\n",
       "    <tr>\n",
       "      <th>0</th>\n",
       "      <td>32</td>\n",
       "      <td>40</td>\n",
       "      <td>4</td>\n",
       "      <td>4</td>\n",
       "      <td>4</td>\n",
       "      <td>10</td>\n",
       "      <td>2</td>\n",
       "      <td>2</td>\n",
       "      <td>4</td>\n",
       "      <td>La douleur apparait et disparait</td>\n",
       "      <td>...</td>\n",
       "      <td>0</td>\n",
       "      <td>Non</td>\n",
       "      <td>Non</td>\n",
       "      <td>Non</td>\n",
       "      <td>Non</td>\n",
       "      <td>Oui</td>\n",
       "      <td>D</td>\n",
       "      <td>Non</td>\n",
       "      <td>NSP</td>\n",
       "      <td>Femme</td>\n",
       "    </tr>\n",
       "    <tr>\n",
       "      <th>1</th>\n",
       "      <td>33</td>\n",
       "      <td>20</td>\n",
       "      <td>4</td>\n",
       "      <td>3</td>\n",
       "      <td>7</td>\n",
       "      <td>4</td>\n",
       "      <td>5</td>\n",
       "      <td>5</td>\n",
       "      <td>5</td>\n",
       "      <td>La douleur apparait et disparait</td>\n",
       "      <td>...</td>\n",
       "      <td>48</td>\n",
       "      <td>Oui</td>\n",
       "      <td>Non</td>\n",
       "      <td>Oui</td>\n",
       "      <td>Non</td>\n",
       "      <td>Non</td>\n",
       "      <td>NSP</td>\n",
       "      <td>Oui</td>\n",
       "      <td>G</td>\n",
       "      <td>Femme</td>\n",
       "    </tr>\n",
       "    <tr>\n",
       "      <th>2</th>\n",
       "      <td>21</td>\n",
       "      <td>NaN</td>\n",
       "      <td>NaN</td>\n",
       "      <td>NaN</td>\n",
       "      <td>4</td>\n",
       "      <td>NaN</td>\n",
       "      <td>8</td>\n",
       "      <td>NaN</td>\n",
       "      <td>NaN</td>\n",
       "      <td>Aucune douleur</td>\n",
       "      <td>...</td>\n",
       "      <td>NaN</td>\n",
       "      <td>NaN</td>\n",
       "      <td>NaN</td>\n",
       "      <td>NaN</td>\n",
       "      <td>NaN</td>\n",
       "      <td>NaN</td>\n",
       "      <td>NaN</td>\n",
       "      <td>NaN</td>\n",
       "      <td>NaN</td>\n",
       "      <td>Femme</td>\n",
       "    </tr>\n",
       "    <tr>\n",
       "      <th>3</th>\n",
       "      <td>22</td>\n",
       "      <td>33</td>\n",
       "      <td>9</td>\n",
       "      <td>9</td>\n",
       "      <td>9</td>\n",
       "      <td>22</td>\n",
       "      <td>9</td>\n",
       "      <td>9</td>\n",
       "      <td>9</td>\n",
       "      <td>Aucune douleur</td>\n",
       "      <td>...</td>\n",
       "      <td>22</td>\n",
       "      <td>Non</td>\n",
       "      <td>Oui</td>\n",
       "      <td>Oui</td>\n",
       "      <td>Non</td>\n",
       "      <td>Oui</td>\n",
       "      <td>G</td>\n",
       "      <td>Oui</td>\n",
       "      <td>D</td>\n",
       "      <td>Homme</td>\n",
       "    </tr>\n",
       "    <tr>\n",
       "      <th>4</th>\n",
       "      <td>60</td>\n",
       "      <td>120</td>\n",
       "      <td>4</td>\n",
       "      <td>0</td>\n",
       "      <td>9</td>\n",
       "      <td>4</td>\n",
       "      <td>6</td>\n",
       "      <td>6</td>\n",
       "      <td>6</td>\n",
       "      <td>Douleur toujours présente</td>\n",
       "      <td>...</td>\n",
       "      <td>24</td>\n",
       "      <td>Non</td>\n",
       "      <td>Non</td>\n",
       "      <td>Oui</td>\n",
       "      <td>Non</td>\n",
       "      <td>Oui</td>\n",
       "      <td>D</td>\n",
       "      <td>Non</td>\n",
       "      <td>NSP</td>\n",
       "      <td>Femme</td>\n",
       "    </tr>\n",
       "  </tbody>\n",
       "</table>\n",
       "<p>5 rows × 422 columns</p>\n",
       "</div>"
      ],
      "text/plain": [
       "  AGE  DC1  DC2  DC3 DC4  DC5 DC6  DC7  DC8                               DD1  \\\n",
       "0  32   40    4    4   4   10   2    2    4  La douleur apparait et disparait   \n",
       "1  33   20    4    3   7    4   5    5    5  La douleur apparait et disparait   \n",
       "2  21  NaN  NaN  NaN   4  NaN   8  NaN  NaN                    Aucune douleur   \n",
       "3  22   33    9    9   9   22   9    9    9                    Aucune douleur   \n",
       "4  60  120    4    0   9    4   6    6    6        Douleur toujours présente   \n",
       "\n",
       "   ...  QS6 QS7A QS7B QS7C QS7D  QS8 QS8E  QS9 QS9E   SEXE  \n",
       "0  ...    0  Non  Non  Non  Non  Oui    D  Non  NSP  Femme  \n",
       "1  ...   48  Oui  Non  Oui  Non  Non  NSP  Oui    G  Femme  \n",
       "2  ...  NaN  NaN  NaN  NaN  NaN  NaN  NaN  NaN  NaN  Femme  \n",
       "3  ...   22  Non  Oui  Oui  Non  Oui    G  Oui    D  Homme  \n",
       "4  ...   24  Non  Non  Oui  Non  Oui    D  Non  NSP  Femme  \n",
       "\n",
       "[5 rows x 422 columns]"
      ]
     },
     "execution_count": 164,
     "metadata": {},
     "output_type": "execute_result"
    }
   ],
   "source": [
    "df.head()"
   ]
  },
  {
   "cell_type": "code",
   "execution_count": 165,
   "metadata": {},
   "outputs": [
    {
     "data": {
      "text/plain": [
       "['AGE',\n",
       " 'DC1',\n",
       " 'DC2',\n",
       " 'DC3',\n",
       " 'DC4',\n",
       " 'DC5',\n",
       " 'DC6',\n",
       " 'DC7',\n",
       " 'DC8',\n",
       " 'DD1',\n",
       " 'DD2',\n",
       " 'DD3A',\n",
       " 'DD3B',\n",
       " 'DD3C',\n",
       " 'DD3D',\n",
       " 'DEMO1',\n",
       " 'DEMO2',\n",
       " 'DEMO3',\n",
       " 'DEMO4',\n",
       " 'E10_REG_MAND_DOUL_D',\n",
       " 'E10_REG_MAND_DOUL_G',\n",
       " 'E10_REG_MAND_DOUL_HAB_D',\n",
       " 'E10_REG_MAND_DOUL_HAB_G',\n",
       " 'E10_REG_MAND_DOUL_REF_D',\n",
       " 'E10_REG_MAND_DOUL_REF_G',\n",
       " 'E10_REG_PTER_DOUL_D',\n",
       " 'E10_REG_PTER_DOUL_G',\n",
       " 'E10_REG_PTER_DOUL_HAB_D',\n",
       " 'E10_REG_PTER_DOUL_HAB_G',\n",
       " 'E10_REG_PTER_DOUL_REF_D',\n",
       " 'E10_REG_PTER_DOUL_REF_G',\n",
       " 'E10_REG_SOUS_DOUL_D',\n",
       " 'E10_REG_SOUS_DOUL_G',\n",
       " 'E10_REG_SOUS_DOUL_HAB_D',\n",
       " 'E10_REG_SOUS_DOUL_HAB_G',\n",
       " 'E10_REG_SOUS_DOUL_REF_D',\n",
       " 'E10_REG_SOUS_DOUL_REF_G',\n",
       " 'E10_TEND_DOUL_D',\n",
       " 'E10_TEND_DOUL_G',\n",
       " 'E10_TEND_DOUL_HAB_D',\n",
       " 'E10_TEND_DOUL_HAB_G',\n",
       " 'E10_TEND_DOUL_REF_D',\n",
       " 'E10_TEND_DOUL_REF_G',\n",
       " 'E11_AD',\n",
       " 'E11_ATMD',\n",
       " 'E11_ATMG',\n",
       " 'E11_DATMD',\n",
       " 'E11_DATMG',\n",
       " 'E11_DD',\n",
       " 'E11_MTAD',\n",
       " 'E11_MYO_D_D',\n",
       " 'E11_MYO_D_G',\n",
       " 'E11_MYO_M_D',\n",
       " 'E11_MYO_M_G',\n",
       " 'E11_MYO_T_D',\n",
       " 'E11_MYO_T_G',\n",
       " 'E11_MY_D_D',\n",
       " 'E11_MY_D_G',\n",
       " 'E11_MY_M_D',\n",
       " 'E11_MY_M_G',\n",
       " 'E11_MY_P_D',\n",
       " 'E11_MY_P_G',\n",
       " 'E11_MY_T_D',\n",
       " 'E11_MY_T_G',\n",
       " 'E11_NO',\n",
       " 'E12',\n",
       " 'E13_ET',\n",
       " 'E13_HYP',\n",
       " 'E13_KIN',\n",
       " 'E13_OO',\n",
       " 'E13_TB',\n",
       " 'E13_TCC',\n",
       " 'E13_TP',\n",
       " 'E13_Trait',\n",
       " 'E1B_D',\n",
       " 'E1B_G',\n",
       " 'E1_DOUL_D_ATM',\n",
       " 'E1_DOUL_D_DIGASTRIQUEPOS',\n",
       " 'E1_DOUL_D_MASSETER_BODY',\n",
       " 'E1_DOUL_D_MASSETER_INSERTION',\n",
       " 'E1_DOUL_D_MASSETER_ORIGIN',\n",
       " 'E1_DOUL_D_PTERIGOIDIENMEDIAL',\n",
       " 'E1_DOUL_D_TEMPORAL_ANTERIOR',\n",
       " 'E1_DOUL_D_TEMPORAL_MIDDLE',\n",
       " 'E1_DOUL_D_TEMPORAL_POSTERIOR',\n",
       " 'E1_DOUL_G_ATM',\n",
       " 'E1_DOUL_G_DIGASTRIQUEPOS',\n",
       " 'E1_DOUL_G_MASSETER_BODY',\n",
       " 'E1_DOUL_G_MASSETER_INSERTION',\n",
       " 'E1_DOUL_G_MASSETER_ORIGIN',\n",
       " 'E1_DOUL_G_PTERIGOIDIENMEDIAL',\n",
       " 'E1_DOUL_G_TEMPORAL_ANTERIOR',\n",
       " 'E1_DOUL_G_TEMPORAL_MIDDLE',\n",
       " 'E1_DOUL_G_TEMPORAL_POSTERIOR',\n",
       " 'E2DIST_H',\n",
       " 'E2DIST_MEDIA',\n",
       " 'E2DIST_V',\n",
       " 'E2NEG_H',\n",
       " 'E2NEG_V',\n",
       " 'E2REF',\n",
       " 'E4A',\n",
       " 'E4B',\n",
       " 'E4C',\n",
       " 'E4D',\n",
       " 'E4_MA_D_ATM',\n",
       " 'E4_MA_D_DIGASTRIQUEPOS',\n",
       " 'E4_MA_D_MASSETER_BODY',\n",
       " 'E4_MA_D_MASSETER_INSERTION',\n",
       " 'E4_MA_D_MASSETER_ORIGIN',\n",
       " 'E4_MA_D_PTERIGOIDIENMEDIAL',\n",
       " 'E4_MA_D_TEMPORAL_ANTERIOR',\n",
       " 'E4_MA_D_TEMPORAL_MIDDLE',\n",
       " 'E4_MA_D_TEMPORAL_POSTERIOR',\n",
       " 'E4_MA_G_ATM',\n",
       " 'E4_MA_G_DIGASTRIQUEPOS',\n",
       " 'E4_MA_G_MASSETER_BODY',\n",
       " 'E4_MA_G_MASSETER_INSERTION',\n",
       " 'E4_MA_G_MASSETER_ORIGIN',\n",
       " 'E4_MA_G_PTERIGOIDIENMEDIAL',\n",
       " 'E4_MA_G_TEMPORAL_ANTERIOR',\n",
       " 'E4_MA_G_TEMPORAL_MIDDLE',\n",
       " 'E4_MA_G_TEMPORAL_POSTERIOR',\n",
       " 'E4_MA_MT_D_TEMPORAL_ANTERIOR',\n",
       " 'E4_MA_MT_D_TEMPORAL_MIDDLE',\n",
       " 'E4_MA_MT_D_TEMPORAL_POSTERIOR',\n",
       " 'E4_MA_MT_G_TEMPORAL_ANTERIOR',\n",
       " 'E4_MA_MT_G_TEMPORAL_MIDDLE',\n",
       " 'E4_MA_MT_G_TEMPORAL_POSTERIOR',\n",
       " 'E4_MS_D_ATM',\n",
       " 'E4_MS_D_DIGASTRIQUEPOS',\n",
       " 'E4_MS_D_MASSETER_BODY',\n",
       " 'E4_MS_D_MASSETER_INSERTION',\n",
       " 'E4_MS_D_MASSETER_ORIGIN',\n",
       " 'E4_MS_D_PTERIGOIDIENMEDIAL',\n",
       " 'E4_MS_D_TEMPORAL_ANTERIOR',\n",
       " 'E4_MS_D_TEMPORAL_MIDDLE',\n",
       " 'E4_MS_D_TEMPORAL_POSTERIOR',\n",
       " 'E4_MS_G_ATM',\n",
       " 'E4_MS_G_DIGASTRIQUEPOS',\n",
       " 'E4_MS_G_MASSETER_BODY',\n",
       " 'E4_MS_G_MASSETER_INSERTION',\n",
       " 'E4_MS_G_MASSETER_ORIGIN',\n",
       " 'E4_MS_G_PTERIGOIDIENMEDIAL',\n",
       " 'E4_MS_G_TEMPORAL_ANTERIOR',\n",
       " 'E4_MS_G_TEMPORAL_MIDDLE',\n",
       " 'E4_MS_G_TEMPORAL_POSTERIOR',\n",
       " 'E4_MS_MT_D_TEMPORAL_ANTERIOR',\n",
       " 'E4_MS_MT_D_TEMPORAL_MIDDLE',\n",
       " 'E4_MS_MT_D_TEMPORAL_POSTERIOR',\n",
       " 'E4_MS_MT_G_TEMPORAL_ANTERIOR',\n",
       " 'E4_MS_MT_G_TEMPORAL_MIDDLE',\n",
       " 'E4_MS_MT_G_TEMPORAL_POSTERIOR',\n",
       " 'E5A',\n",
       " 'E5B',\n",
       " 'E5C',\n",
       " 'E5D',\n",
       " 'E5_LD_D_ATM',\n",
       " 'E5_LD_D_DIGASTRIQUEPOS',\n",
       " 'E5_LD_D_MASSETER_BODY',\n",
       " 'E5_LD_D_MASSETER_INSERTION',\n",
       " 'E5_LD_D_MASSETER_ORIGIN',\n",
       " 'E5_LD_D_PTERIGOIDIENMEDIAL',\n",
       " 'E5_LD_D_TEMPORAL_ANTERIOR',\n",
       " 'E5_LD_D_TEMPORAL_MIDDLE',\n",
       " 'E5_LD_D_TEMPORAL_POSTERIOR',\n",
       " 'E5_LD_G_ATM',\n",
       " 'E5_LD_G_DIGASTRIQUEPOS',\n",
       " 'E5_LD_G_MASSETER_BODY',\n",
       " 'E5_LD_G_MASSETER_INSERTION',\n",
       " 'E5_LD_G_MASSETER_ORIGIN',\n",
       " 'E5_LD_G_PTERIGOIDIENMEDIAL',\n",
       " 'E5_LD_G_TEMPORAL_ANTERIOR',\n",
       " 'E5_LD_G_TEMPORAL_MIDDLE',\n",
       " 'E5_LD_G_TEMPORAL_POSTERIOR',\n",
       " 'E5_LD_MT_D_TEMPORAL_ANTERIOR',\n",
       " 'E5_LD_MT_D_TEMPORAL_MIDDLE',\n",
       " 'E5_LD_MT_D_TEMPORAL_POSTERIOR',\n",
       " 'E5_LD_MT_G_TEMPORAL_ANTERIOR',\n",
       " 'E5_LD_MT_G_TEMPORAL_MIDDLE',\n",
       " 'E5_LD_MT_G_TEMPORAL_POSTERIOR',\n",
       " 'E5_LG_D_ATM',\n",
       " 'E5_LG_D_DIGASTRIQUEPOS',\n",
       " 'E5_LG_D_MASSETER_BODY',\n",
       " 'E5_LG_D_MASSETER_INSERTION',\n",
       " 'E5_LG_D_MASSETER_ORIGIN',\n",
       " 'E5_LG_D_PTERIGOIDIENMEDIAL',\n",
       " 'E5_LG_D_TEMPORAL_ANTERIOR',\n",
       " 'E5_LG_D_TEMPORAL_MIDDLE',\n",
       " 'E5_LG_D_TEMPORAL_POSTERIOR',\n",
       " 'E5_LG_G_ATM',\n",
       " 'E5_LG_G_DIGASTRIQUEPOS',\n",
       " 'E5_LG_G_MASSETER_BODY',\n",
       " 'E5_LG_G_MASSETER_INSERTION',\n",
       " 'E5_LG_G_MASSETER_ORIGIN',\n",
       " 'E5_LG_G_PTERIGOIDIENMEDIAL',\n",
       " 'E5_LG_G_TEMPORAL_ANTERIOR',\n",
       " 'E5_LG_G_TEMPORAL_MIDDLE',\n",
       " 'E5_LG_G_TEMPORAL_POSTERIOR',\n",
       " 'E5_LG_MT_D_TEMPORAL_ANTERIOR',\n",
       " 'E5_LG_MT_D_TEMPORAL_MIDDLE',\n",
       " 'E5_LG_MT_D_TEMPORAL_POSTERIOR',\n",
       " 'E5_LG_MT_G_TEMPORAL_ANTERIOR',\n",
       " 'E5_LG_MT_G_TEMPORAL_MIDDLE',\n",
       " 'E5_LG_MT_G_TEMPORAL_POSTERIOR',\n",
       " 'E5_PI_D_ATM',\n",
       " 'E5_PI_D_DIGASTRIQUEPOS',\n",
       " 'E5_PI_D_MASSETER_BODY',\n",
       " 'E5_PI_D_MASSETER_INSERTION',\n",
       " 'E5_PI_D_MASSETER_ORIGIN',\n",
       " 'E5_PI_D_PTERIGOIDIENMEDIAL',\n",
       " 'E5_PI_D_TEMPORAL_ANTERIOR',\n",
       " 'E5_PI_D_TEMPORAL_MIDDLE',\n",
       " 'E5_PI_D_TEMPORAL_POSTERIOR',\n",
       " 'E5_PI_G_ATM',\n",
       " 'E5_PI_G_DIGASTRIQUEPOS',\n",
       " 'E5_PI_G_MASSETER_BODY',\n",
       " 'E5_PI_G_MASSETER_INSERTION',\n",
       " 'E5_PI_G_MASSETER_ORIGIN',\n",
       " 'E5_PI_G_PTERIGOIDIENMEDIAL',\n",
       " 'E5_PI_G_TEMPORAL_ANTERIOR',\n",
       " 'E5_PI_G_TEMPORAL_MIDDLE',\n",
       " 'E5_PI_G_TEMPORAL_POSTERIOR',\n",
       " 'E5_PI_MT_D_TEMPORAL_ANTERIOR',\n",
       " 'E5_PI_MT_D_TEMPORAL_MIDDLE',\n",
       " 'E5_PI_MT_D_TEMPORAL_POSTERIOR',\n",
       " 'E5_PI_MT_G_TEMPORAL_ANTERIOR',\n",
       " 'E5_PI_MT_G_TEMPORAL_MIDDLE',\n",
       " 'E5_PI_MT_G_TEMPORAL_POSTERIOR',\n",
       " 'E6_CRAQ_DOUL_D',\n",
       " 'E6_CRAQ_DOUL_G',\n",
       " 'E6_CRAQ_DOUL_HAB_D',\n",
       " 'E6_CRAQ_DOUL_HAB_G',\n",
       " 'E6_CRAQ_FERM_D',\n",
       " 'E6_CRAQ_FERM_G',\n",
       " 'E6_CRAQ_OUV_D',\n",
       " 'E6_CRAQ_OUV_G',\n",
       " 'E6_CRAQ_PAT_D',\n",
       " 'E6_CRAQ_PAT_G',\n",
       " 'E6_CREP_DOUL_D',\n",
       " 'E6_CREP_DOUL_G',\n",
       " 'E6_CREP_DOUL_HAB_G',\n",
       " 'E6_CREP_DOU_HAB_D',\n",
       " 'E6_CREP_FERM_D',\n",
       " 'E6_CREP_FERM_G',\n",
       " 'E6_CREP_OUV_D',\n",
       " 'E6_CREP_OUV_G',\n",
       " 'E6_CREP_PAT_D',\n",
       " 'E6_CREP_PAT_G',\n",
       " 'E7_CRAQ_DOUL_D',\n",
       " 'E7_CRAQ_DOUL_G',\n",
       " 'E7_CRAQ_DOUL_HAB_D',\n",
       " 'E7_CRAQ_DOUL_HAB_G',\n",
       " 'E7_CRAQ_FERM_D',\n",
       " 'E7_CRAQ_FERM_G',\n",
       " 'E7_CRAQ_OUV_D',\n",
       " 'E7_CRAQ_OUV_G',\n",
       " 'E7_CRAQ_PAT_D',\n",
       " 'E7_CRAQ_PAT_G',\n",
       " 'E7_CREP_DOUL_D',\n",
       " 'E7_CREP_DOUL_G',\n",
       " 'E7_CREP_DOUL_HAB_D',\n",
       " 'E7_CREP_DOUL_HAB_G',\n",
       " 'E7_CREP_FERM_D',\n",
       " 'E7_CREP_FERM_G',\n",
       " 'E7_CREP_OUV_D',\n",
       " 'E7_CREP_OUV_G',\n",
       " 'E7_CREP_PAT_D',\n",
       " 'E7_CREP_PAT_G',\n",
       " 'E8_OUVERT_BLOC_D',\n",
       " 'E8_OUVERT_BLOC_G',\n",
       " 'E8_OUVERT_EXAM_D',\n",
       " 'E8_OUVERT_EXAM_G',\n",
       " 'E8_OUVERT_PAT_D',\n",
       " 'E8_OUVERT_PAT_G',\n",
       " 'E8_OUVRANT_BLOC_D',\n",
       " 'E8_OUVRANT_BLOC_G',\n",
       " 'E8_OUVRANT_EXAM_D',\n",
       " 'E8_OUVRANT_EXAM_G',\n",
       " 'E8_OUVRANT_PAT_D',\n",
       " 'E8_OUVRANT_PAT_G',\n",
       " 'E9_AL_DH_D',\n",
       " 'E9_AL_DH_G',\n",
       " 'E9_AL_DOU_REF_D',\n",
       " 'E9_AL_MTH_D',\n",
       " 'E9_AL_MTH_G',\n",
       " 'E9_PALP_D_ATM',\n",
       " 'E9_PALP_D_DIGASTRIQUEPOS',\n",
       " 'E9_PALP_D_MASSETER_BODY',\n",
       " 'E9_PALP_D_MASSETER_INSERTION',\n",
       " 'E9_PALP_D_MASSETER_ORIGIN',\n",
       " 'E9_PALP_D_PTERIGOIDIENMEDIAL',\n",
       " 'E9_PALP_D_TEMPORAL_ANTERIOR',\n",
       " 'E9_PALP_D_TEMPORAL_MIDDLE',\n",
       " 'E9_PALP_D_TEMPORAL_POSTERIOR',\n",
       " 'E9_PALP_G_ATM',\n",
       " 'E9_PALP_G_DIGASTRIQUEPOS',\n",
       " 'E9_PALP_G_MASSETER_BODY',\n",
       " 'E9_PALP_G_MASSETER_INSERTION',\n",
       " 'E9_PALP_G_MASSETER_ORIGIN',\n",
       " 'E9_PALP_G_PTERIGOIDIENMEDIAL',\n",
       " 'E9_PALP_G_TEMPORAL_ANTERIOR',\n",
       " 'E9_PALP_G_TEMPORAL_MIDDLE',\n",
       " 'E9_PALP_G_TEMPORAL_POSTERIOR',\n",
       " 'E9_PALP_MT_D_TEMPORAL_ANTERIOR',\n",
       " 'E9_PALP_MT_D_TEMPORAL_MIDDLE',\n",
       " 'E9_PALP_MT_D_TEMPORAL_POSTERIOR',\n",
       " 'E9_PALP_MT_G_TEMPORAL_ANTERIOR',\n",
       " 'E9_PALP_MT_G_TEMPORAL_MIDDLE',\n",
       " 'E9_PALP_MT_G_TEMPORAL_POSTERIOR',\n",
       " 'E9_PL_DH_D',\n",
       " 'E9_PL_DH_G',\n",
       " 'E9_PL_DOU_REF_D',\n",
       " 'E9_PL_DOU_REF_G',\n",
       " 'E9_PL_MTH_D',\n",
       " 'E9_PL_MTH_G',\n",
       " 'FIRST_NAME',\n",
       " 'FM201',\n",
       " 'FM2010',\n",
       " 'FM2011',\n",
       " 'FM2012',\n",
       " 'FM202',\n",
       " 'FM203',\n",
       " 'FM204',\n",
       " 'FM205',\n",
       " 'FM206',\n",
       " 'FM207',\n",
       " 'FM208',\n",
       " 'FM209',\n",
       " 'FM81',\n",
       " 'FM82',\n",
       " 'FM83',\n",
       " 'FM84',\n",
       " 'FM85',\n",
       " 'FM86',\n",
       " 'FM87',\n",
       " 'FM88',\n",
       " 'GAD1',\n",
       " 'GAD2',\n",
       " 'GAD3',\n",
       " 'GAD4',\n",
       " 'GAD5',\n",
       " 'GAD6',\n",
       " 'GAD7',\n",
       " 'LAST_NAME',\n",
       " 'MD1',\n",
       " 'MD_MOR_D_ATM',\n",
       " 'MD_MOR_D_DIGASTRIQUEPOS',\n",
       " 'MD_MOR_D_MASSETER_BODY',\n",
       " 'MD_MOR_D_MASSETER_INSERTION',\n",
       " 'MD_MOR_D_MASSETER_ORIGIN',\n",
       " 'MD_MOR_D_PTERIGOIDIENMEDIAL',\n",
       " 'MD_MOR_D_TEMPORAL_ANTERIOR',\n",
       " 'MD_MOR_D_TEMPORAL_MIDDLE',\n",
       " 'MD_MOR_D_TEMPORAL_POSTERIOR',\n",
       " 'MD_MOR_G_ATM',\n",
       " 'MD_MOR_G_DIGASTRIQUEPOS',\n",
       " 'MD_MOR_G_MASSETER_BODY',\n",
       " 'MD_MOR_G_MASSETER_INSERTION',\n",
       " 'MD_MOR_G_MASSETER_ORIGIN',\n",
       " 'MD_MOR_G_PTERIGOIDIENMEDIAL',\n",
       " 'MD_MOR_G_TEMPORAL_ANTERIOR',\n",
       " 'MD_MOR_G_TEMPORAL_MIDDLE',\n",
       " 'MD_MOR_G_TEMPORAL_POSTERIOR',\n",
       " 'OBC1',\n",
       " 'OBC10',\n",
       " 'OBC11',\n",
       " 'OBC12',\n",
       " 'OBC13',\n",
       " 'OBC14',\n",
       " 'OBC15',\n",
       " 'OBC16',\n",
       " 'OBC17',\n",
       " 'OBC18',\n",
       " 'OBC19',\n",
       " 'OBC2',\n",
       " 'OBC20',\n",
       " 'OBC21',\n",
       " 'OBC3',\n",
       " 'OBC4',\n",
       " 'OBC5',\n",
       " 'OBC6',\n",
       " 'OBC7',\n",
       " 'OBC8',\n",
       " 'OBC9',\n",
       " 'PHQ41',\n",
       " 'PHQ42',\n",
       " 'PHQ43',\n",
       " 'PHQ44',\n",
       " 'PHQ91',\n",
       " 'PHQ92',\n",
       " 'PHQ93',\n",
       " 'PHQ94',\n",
       " 'PHQ95',\n",
       " 'PHQ96',\n",
       " 'PHQ97',\n",
       " 'QS1',\n",
       " 'QS10',\n",
       " 'QS10E',\n",
       " 'QS11',\n",
       " 'QS11E',\n",
       " 'QS12',\n",
       " 'QS12E',\n",
       " 'QS13',\n",
       " 'QS13E',\n",
       " 'QS14',\n",
       " 'QS14E',\n",
       " 'QS2',\n",
       " 'QS3',\n",
       " 'QS4A',\n",
       " 'QS4B',\n",
       " 'QS4C',\n",
       " 'QS5',\n",
       " 'QS6',\n",
       " 'QS7A',\n",
       " 'QS7B',\n",
       " 'QS7C',\n",
       " 'QS7D',\n",
       " 'QS8',\n",
       " 'QS8E',\n",
       " 'QS9',\n",
       " 'QS9E',\n",
       " 'SEXE']"
      ]
     },
     "execution_count": 165,
     "metadata": {},
     "output_type": "execute_result"
    }
   ],
   "source": [
    "list(df.columns)"
   ]
  },
  {
   "cell_type": "code",
   "execution_count": 359,
   "metadata": {},
   "outputs": [
    {
     "data": {
      "text/plain": [
       "N    124\n",
       "Y      6\n",
       "Name: E9_AL_DOU_REF_D, dtype: int64"
      ]
     },
     "execution_count": 359,
     "metadata": {},
     "output_type": "execute_result"
    }
   ],
   "source": [
    "df['E9_AL_DOU_REF_D'].value_counts()"
   ]
  },
  {
   "cell_type": "code",
   "execution_count": 316,
   "metadata": {},
   "outputs": [
    {
     "data": {
      "text/plain": [
       "true    10\n",
       "Name: E5_PI_MT_D_TEMPORAL_MIDDLE, dtype: int64"
      ]
     },
     "execution_count": 316,
     "metadata": {},
     "output_type": "execute_result"
    }
   ],
   "source": [
    "df['E5_PI_MT_D_TEMPORAL_MIDDLE'].value_counts()"
   ]
  },
  {
   "cell_type": "code",
   "execution_count": 166,
   "metadata": {},
   "outputs": [],
   "source": [
    "df['QS4D'] = df['QS4C']"
   ]
  },
  {
   "cell_type": "code",
   "execution_count": 167,
   "metadata": {},
   "outputs": [
    {
     "data": {
      "text/html": [
       "<div>\n",
       "<style scoped>\n",
       "    .dataframe tbody tr th:only-of-type {\n",
       "        vertical-align: middle;\n",
       "    }\n",
       "\n",
       "    .dataframe tbody tr th {\n",
       "        vertical-align: top;\n",
       "    }\n",
       "\n",
       "    .dataframe thead th {\n",
       "        text-align: right;\n",
       "    }\n",
       "</style>\n",
       "<table border=\"1\" class=\"dataframe\">\n",
       "  <thead>\n",
       "    <tr style=\"text-align: right;\">\n",
       "      <th></th>\n",
       "      <th>QS3</th>\n",
       "      <th>QS4A</th>\n",
       "      <th>QS4B</th>\n",
       "      <th>QS4C</th>\n",
       "    </tr>\n",
       "  </thead>\n",
       "  <tbody>\n",
       "    <tr>\n",
       "      <th>0</th>\n",
       "      <td>Douleur qui vient et part</td>\n",
       "      <td>Oui</td>\n",
       "      <td>Oui</td>\n",
       "      <td>Oui</td>\n",
       "    </tr>\n",
       "    <tr>\n",
       "      <th>1</th>\n",
       "      <td>Douleur qui vient et part</td>\n",
       "      <td>Oui</td>\n",
       "      <td>Non</td>\n",
       "      <td>Oui</td>\n",
       "    </tr>\n",
       "    <tr>\n",
       "      <th>2</th>\n",
       "      <td>NaN</td>\n",
       "      <td>NaN</td>\n",
       "      <td>NaN</td>\n",
       "      <td>NaN</td>\n",
       "    </tr>\n",
       "    <tr>\n",
       "      <th>3</th>\n",
       "      <td>NaN</td>\n",
       "      <td>NaN</td>\n",
       "      <td>NaN</td>\n",
       "      <td>NaN</td>\n",
       "    </tr>\n",
       "    <tr>\n",
       "      <th>4</th>\n",
       "      <td>Douleur qui vient et part</td>\n",
       "      <td>Non</td>\n",
       "      <td>Oui</td>\n",
       "      <td>Oui</td>\n",
       "    </tr>\n",
       "  </tbody>\n",
       "</table>\n",
       "</div>"
      ],
      "text/plain": [
       "                         QS3 QS4A QS4B QS4C\n",
       "0  Douleur qui vient et part  Oui  Oui  Oui\n",
       "1  Douleur qui vient et part  Oui  Non  Oui\n",
       "2                        NaN  NaN  NaN  NaN\n",
       "3                        NaN  NaN  NaN  NaN\n",
       "4  Douleur qui vient et part  Non  Oui  Oui"
      ]
     },
     "execution_count": 167,
     "metadata": {},
     "output_type": "execute_result"
    }
   ],
   "source": [
    "df[['QS3','QS4A', 'QS4B', 'QS4C']].head()"
   ]
  },
  {
   "cell_type": "code",
   "execution_count": 168,
   "metadata": {},
   "outputs": [],
   "source": [
    "df = df.dropna(subset=['QS3', 'QS4A', 'QS4B', 'QS4C', 'QS4D'])"
   ]
  },
  {
   "cell_type": "code",
   "execution_count": 169,
   "metadata": {},
   "outputs": [],
   "source": [
    "def cleanQS3(x):\n",
    "    if x == 'Aucune douleur':\n",
    "        return 'a'\n",
    "    if x == 'Douleur qui vient et part':\n",
    "        return 'b'\n",
    "    if x ==  'Douleur toujours présente':\n",
    "        return 'c'\n",
    "    else:\n",
    "        print(x)\n",
    "        return x\n",
    "        "
   ]
  },
  {
   "cell_type": "code",
   "execution_count": 170,
   "metadata": {},
   "outputs": [],
   "source": [
    "df_model = pd.DataFrame()"
   ]
  },
  {
   "cell_type": "code",
   "execution_count": 171,
   "metadata": {},
   "outputs": [],
   "source": [
    "df_model['QS3'] = df['QS3']"
   ]
  },
  {
   "cell_type": "code",
   "execution_count": 172,
   "metadata": {},
   "outputs": [],
   "source": [
    "df_model['QS3'] = df['QS3'].apply(cleanQS3)"
   ]
  },
  {
   "cell_type": "code",
   "execution_count": 173,
   "metadata": {},
   "outputs": [
    {
     "data": {
      "text/plain": [
       "b    92\n",
       "c    41\n",
       "a     5\n",
       "Name: QS3, dtype: int64"
      ]
     },
     "execution_count": 173,
     "metadata": {},
     "output_type": "execute_result"
    }
   ],
   "source": [
    "df_model['QS3'].value_counts()"
   ]
  },
  {
   "cell_type": "code",
   "execution_count": 174,
   "metadata": {},
   "outputs": [
    {
     "data": {
      "text/plain": [
       "Oui    113\n",
       "Non     25\n",
       "Name: QS4A, dtype: int64"
      ]
     },
     "execution_count": 174,
     "metadata": {},
     "output_type": "execute_result"
    }
   ],
   "source": [
    "df['QS4A'].value_counts()"
   ]
  },
  {
   "cell_type": "code",
   "execution_count": 175,
   "metadata": {},
   "outputs": [],
   "source": [
    "def cleanOUI_NON_TO_TRUE_FALSE(x):\n",
    "    if x == 'Oui':\n",
    "        return 'T'\n",
    "    if x == 'Non':\n",
    "        return 'F'\n",
    "    else:\n",
    "        print(x)\n",
    "        return x"
   ]
  },
  {
   "cell_type": "code",
   "execution_count": 176,
   "metadata": {},
   "outputs": [],
   "source": [
    "df_model['QS4A'] = df['QS4A'].apply(cleanOUI_NON_TO_TRUE_FALSE)\n",
    "df_model['QS4B'] = df['QS4B'].apply(cleanOUI_NON_TO_TRUE_FALSE)\n",
    "df_model['QS4C'] = df['QS4C'].apply(cleanOUI_NON_TO_TRUE_FALSE)\n",
    "df_model['QS4D'] = df['QS4D'].apply(cleanOUI_NON_TO_TRUE_FALSE)"
   ]
  },
  {
   "cell_type": "code",
   "execution_count": 180,
   "metadata": {},
   "outputs": [],
   "source": [
    "def preprocess_DOUL_HAB_TO_TRUE_FALSE(x):\n",
    "    if x == 'DH':\n",
    "        return 'T'\n",
    "    else:\n",
    "        return 'F'"
   ]
  },
  {
   "cell_type": "code",
   "execution_count": 294,
   "metadata": {},
   "outputs": [],
   "source": [
    "df_model['E4B_HAB'] = df['E4_MS_D_MASSETER_BODY'].apply(preprocess_DOUL_HAB_TO_TRUE_FALSE)"
   ]
  },
  {
   "cell_type": "code",
   "execution_count": 295,
   "metadata": {},
   "outputs": [
    {
     "data": {
      "text/plain": [
       "F    110\n",
       "T     28\n",
       "Name: E4B_HAB, dtype: int64"
      ]
     },
     "execution_count": 295,
     "metadata": {},
     "output_type": "execute_result"
    }
   ],
   "source": [
    "df_model['E4B_HAB'].value_counts()"
   ]
  },
  {
   "cell_type": "code",
   "execution_count": 296,
   "metadata": {},
   "outputs": [],
   "source": [
    "df_model['E4C_HAB'] = df['E4_MA_D_MASSETER_BODY'].apply(preprocess_DOUL_HAB_TO_TRUE_FALSE)"
   ]
  },
  {
   "cell_type": "code",
   "execution_count": 297,
   "metadata": {},
   "outputs": [
    {
     "data": {
      "text/plain": [
       "F    108\n",
       "T     30\n",
       "Name: E4C_HAB, dtype: int64"
      ]
     },
     "execution_count": 297,
     "metadata": {},
     "output_type": "execute_result"
    }
   ],
   "source": [
    "df_model['E4C_HAB'].value_counts()"
   ]
  },
  {
   "cell_type": "code",
   "execution_count": null,
   "metadata": {},
   "outputs": [],
   "source": [
    "def preprocess_3_regions(x):\n",
    "    if x[0] == 'T':\n",
    "        return x[0]\n",
    "    elif x[1] == 'T': \n",
    "        return x[1]\n",
    "    elif x[2] == 'T': \n",
    "        return x[2]\n",
    "    else:\n",
    "        return 'F'"
   ]
  },
  {
   "cell_type": "code",
   "execution_count": 186,
   "metadata": {},
   "outputs": [
    {
     "data": {
      "text/plain": [
       "NA    80\n",
       "DH    28\n",
       "D     19\n",
       "AP     3\n",
       "Name: E9_PALP_D_MASSETER_BODY, dtype: int64"
      ]
     },
     "execution_count": 186,
     "metadata": {},
     "output_type": "execute_result"
    }
   ],
   "source": [
    "df['E9_PALP_D_MASSETER_BODY'].value_counts()"
   ]
  },
  {
   "cell_type": "code",
   "execution_count": 193,
   "metadata": {},
   "outputs": [
    {
     "data": {
      "text/plain": [
       "NA    86\n",
       "D     21\n",
       "DH    19\n",
       "AP     4\n",
       "Name: E9_PALP_D_MASSETER_INSERTION, dtype: int64"
      ]
     },
     "execution_count": 193,
     "metadata": {},
     "output_type": "execute_result"
    }
   ],
   "source": [
    "\n",
    "df['E9_PALP_D_MASSETER_INSERTION'].value_counts()"
   ]
  },
  {
   "cell_type": "code",
   "execution_count": 187,
   "metadata": {},
   "outputs": [],
   "source": [
    "df_model['E9_HAB_ZONE_SUB_REGION1'] = df['E9_PALP_D_MASSETER_BODY'].apply(preprocess_DOUL_HAB_TO_TRUE_FALSE)\n",
    "df_model['E9_HAB_ZONE_SUB_REGION2'] = df['E9_PALP_D_MASSETER_INSERTION'].apply(preprocess_DOUL_HAB_TO_TRUE_FALSE)\n",
    "df_model['E9_HAB_ZONE_SUB_REGION3'] = df['E9_PALP_D_MASSETER_ORIGIN'].apply(preprocess_DOUL_HAB_TO_TRUE_FALSE)"
   ]
  },
  {
   "cell_type": "code",
   "execution_count": 188,
   "metadata": {},
   "outputs": [],
   "source": [
    "df_model['E10_HAB'] = 'F'"
   ]
  },
  {
   "cell_type": "code",
   "execution_count": 189,
   "metadata": {},
   "outputs": [
    {
     "data": {
      "text/plain": [
       "NA    78\n",
       "D     54\n",
       "Name: E1_DOUL_D_MASSETER_BODY, dtype: int64"
      ]
     },
     "execution_count": 189,
     "metadata": {},
     "output_type": "execute_result"
    }
   ],
   "source": [
    "df[\"E1_DOUL_D_MASSETER_BODY\"].value_counts()"
   ]
  },
  {
   "cell_type": "code",
   "execution_count": 190,
   "metadata": {},
   "outputs": [],
   "source": [
    "def preprocess_DOUL_TO_TRUE_FALSE(x):\n",
    "    if x == 'D':\n",
    "        return 'T'\n",
    "    else:\n",
    "        return 'F'"
   ]
  },
  {
   "cell_type": "code",
   "execution_count": 191,
   "metadata": {},
   "outputs": [],
   "source": [
    "df_model[\"E1A\"] = df[\"E1_DOUL_D_MASSETER_BODY\"].apply(preprocess_DOUL_TO_TRUE_FALSE)"
   ]
  },
  {
   "cell_type": "code",
   "execution_count": 192,
   "metadata": {},
   "outputs": [],
   "source": [
    "df_model['ZONE'] = 'MAST'"
   ]
  },
  {
   "cell_type": "code",
   "execution_count": 194,
   "metadata": {},
   "outputs": [],
   "source": [
    "def preprocess_DOUL_REF_TO_TRUE_FALSE(x):\n",
    "    if x == 'DR':\n",
    "        return 'T'\n",
    "    else:\n",
    "        return 'F'"
   ]
  },
  {
   "cell_type": "code",
   "execution_count": 196,
   "metadata": {},
   "outputs": [],
   "source": [
    "def preprocess_DOUL_PROPA_TO_TRUE_FALSE(x):\n",
    "    if x == 'DH':\n",
    "        return 'T'\n",
    "    elif x == 'D':\n",
    "        return 'T'\n",
    "    else:\n",
    "        return 'F'"
   ]
  },
  {
   "cell_type": "code",
   "execution_count": 195,
   "metadata": {},
   "outputs": [],
   "source": [
    "df_model['E9_REF_ZONE_SUB_REGION1'] = df['E9_PALP_D_MASSETER_BODY'].apply(preprocess_DOUL_REF_TO_TRUE_FALSE)\n",
    "df_model['E9_REF_ZONE_SUB_REGION2'] = df['E9_PALP_D_MASSETER_INSERTION'].apply(preprocess_DOUL_REF_TO_TRUE_FALSE)\n",
    "df_model['E9_REF_ZONE_SUB_REGION3'] = df['E9_PALP_D_MASSETER_ORIGIN'].apply(preprocess_DOUL_REF_TO_TRUE_FALSE)"
   ]
  },
  {
   "cell_type": "code",
   "execution_count": 197,
   "metadata": {},
   "outputs": [],
   "source": [
    "df_model['E10_REF'] = 'F'"
   ]
  },
  {
   "cell_type": "code",
   "execution_count": 198,
   "metadata": {},
   "outputs": [],
   "source": [
    "df_model['E9_PROPA_ZONE_SUB_REGION1'] = df['E9_PALP_D_MASSETER_BODY'].apply(preprocess_DOUL_PROPA_TO_TRUE_FALSE)\n",
    "df_model['E9_PROPA_ZONE_SUB_REGION2'] = df['E9_PALP_D_MASSETER_INSERTION'].apply(preprocess_DOUL_PROPA_TO_TRUE_FALSE)\n",
    "df_model['E9_PROPA_ZONE_SUB_REGION3'] = df['E9_PALP_D_MASSETER_ORIGIN'].apply(preprocess_DOUL_PROPA_TO_TRUE_FALSE)"
   ]
  },
  {
   "cell_type": "code",
   "execution_count": 199,
   "metadata": {},
   "outputs": [],
   "source": [
    "df_model['E10_PROPA_ZONE_SUB_REGION1'] = 'F'\n",
    "df_model['E10_PROPA_ZONE_SUB_REGION2'] = 'F'\n",
    "df_model['E10_PROPA_ZONE_SUB_REGION3'] = 'F'"
   ]
  },
  {
   "cell_type": "code",
   "execution_count": 200,
   "metadata": {},
   "outputs": [
    {
     "data": {
      "text/plain": [
       "NA    110\n",
       "DH     15\n",
       "D       5\n",
       "Name: E5_LD_D_MASSETER_BODY, dtype: int64"
      ]
     },
     "execution_count": 200,
     "metadata": {},
     "output_type": "execute_result"
    }
   ],
   "source": [
    "df['E5_LD_D_MASSETER_BODY'].value_counts()"
   ]
  },
  {
   "cell_type": "code",
   "execution_count": 201,
   "metadata": {},
   "outputs": [],
   "source": [
    "df_model['E5A_HAB'] = df['E5_LD_D_MASSETER_BODY'].apply(preprocess_DOUL_HAB_TO_TRUE_FALSE)"
   ]
  },
  {
   "cell_type": "code",
   "execution_count": 203,
   "metadata": {},
   "outputs": [],
   "source": [
    "df_model['E5B_HAB'] = df['E5_LG_D_MASSETER_BODY'].apply(preprocess_DOUL_HAB_TO_TRUE_FALSE)"
   ]
  },
  {
   "cell_type": "code",
   "execution_count": 204,
   "metadata": {},
   "outputs": [],
   "source": [
    "df_model['E5C_HAB'] = df['E5_PI_D_MASSETER_BODY'].apply(preprocess_DOUL_HAB_TO_TRUE_FALSE)"
   ]
  },
  {
   "cell_type": "code",
   "execution_count": 205,
   "metadata": {},
   "outputs": [
    {
     "data": {
      "text/plain": [
       "Non         119\n",
       "Temporal     13\n",
       "Name: E1B_D, dtype: int64"
      ]
     },
     "execution_count": 205,
     "metadata": {},
     "output_type": "execute_result"
    }
   ],
   "source": [
    "df['E1B_D'].value_counts()"
   ]
  },
  {
   "cell_type": "code",
   "execution_count": 206,
   "metadata": {},
   "outputs": [],
   "source": [
    "def preprocess_E1B_IS_AUTRE(x):\n",
    "    if x == 'Autre':\n",
    "        return 'T'\n",
    "    else:\n",
    "        return 'F'"
   ]
  },
  {
   "cell_type": "code",
   "execution_count": 207,
   "metadata": {},
   "outputs": [],
   "source": [
    "df_model['E1B'] = df['E1B_D'].apply(preprocess_E1B_IS_AUTRE)"
   ]
  },
  {
   "cell_type": "code",
   "execution_count": 208,
   "metadata": {},
   "outputs": [],
   "source": [
    "df_model['isTEMPORAL'] = 'F'"
   ]
  },
  {
   "cell_type": "code",
   "execution_count": 209,
   "metadata": {},
   "outputs": [
    {
     "data": {
      "text/plain": [
       "Non    71\n",
       "Oui    67\n",
       "Name: QS5, dtype: int64"
      ]
     },
     "execution_count": 209,
     "metadata": {},
     "output_type": "execute_result"
    }
   ],
   "source": [
    "df['QS5'].value_counts()"
   ]
  },
  {
   "cell_type": "code",
   "execution_count": 210,
   "metadata": {},
   "outputs": [],
   "source": [
    "df_model['QS5'] = df['QS5'].apply(cleanOUI_NON_TO_TRUE_FALSE)"
   ]
  },
  {
   "cell_type": "code",
   "execution_count": 211,
   "metadata": {},
   "outputs": [
    {
     "data": {
      "text/plain": [
       "Non    89\n",
       "Oui    49\n",
       "Name: QS7A, dtype: int64"
      ]
     },
     "execution_count": 211,
     "metadata": {},
     "output_type": "execute_result"
    }
   ],
   "source": [
    "df['QS7A'].value_counts()"
   ]
  },
  {
   "cell_type": "code",
   "execution_count": 212,
   "metadata": {},
   "outputs": [],
   "source": [
    "df_model['QS7A'] = df['QS7A'].apply(cleanOUI_NON_TO_TRUE_FALSE)\n",
    "df_model['QS7B'] = df['QS7A'].apply(cleanOUI_NON_TO_TRUE_FALSE)\n",
    "df_model['QS7C'] = df['QS7A'].apply(cleanOUI_NON_TO_TRUE_FALSE)\n",
    "df_model['QS7D'] = df['QS7A'].apply(cleanOUI_NON_TO_TRUE_FALSE)"
   ]
  },
  {
   "cell_type": "code",
   "execution_count": 213,
   "metadata": {},
   "outputs": [],
   "source": [
    "df_model['E5A_MAL_TETE'] = 'F'\n",
    "df_model['E5B_MAL_TETE'] = 'F'\n",
    "df_model['E5C_MAL_TETE'] = 'F'"
   ]
  },
  {
   "cell_type": "code",
   "execution_count": 214,
   "metadata": {},
   "outputs": [],
   "source": [
    "df_model['E9_MAL_TETE_ZONE1'] = 'F'\n",
    "df_model['E9_MAL_TETE_ZONE2'] = 'F'\n",
    "df_model['E9_MAL_TETE_ZONE3'] = 'F'"
   ]
  },
  {
   "cell_type": "code",
   "execution_count": 215,
   "metadata": {},
   "outputs": [],
   "source": [
    "df_model['E4B_MAL_TETE'] = 'F'\n",
    "df_model['E4C_MAL_TETE'] = 'F'\n"
   ]
  },
  {
   "cell_type": "code",
   "execution_count": 216,
   "metadata": {},
   "outputs": [
    {
     "data": {
      "text/plain": [
       "Oui    82\n",
       "Non    56\n",
       "Name: QS8, dtype: int64"
      ]
     },
     "execution_count": 216,
     "metadata": {},
     "output_type": "execute_result"
    }
   ],
   "source": [
    "df['QS8'].value_counts()"
   ]
  },
  {
   "cell_type": "code",
   "execution_count": 218,
   "metadata": {},
   "outputs": [],
   "source": [
    "df_model['QS8'] = df['QS8'].apply(cleanOUI_NON_TO_TRUE_FALSE)"
   ]
  },
  {
   "cell_type": "code",
   "execution_count": 219,
   "metadata": {},
   "outputs": [],
   "source": [
    "df_model['E6_CRAQUE_PATIENT'] = 'F'\n",
    "df_model['E6_CREPITE_PATIENT'] = 'F'\n",
    "df_model['E7_CRAQUE_PATIENT'] = 'F'\n",
    "df_model['E7_CREPITE_PATIENT'] = 'F'\n",
    "\n",
    "df_model['E6_CRAQUE_OUVERT'] = 'F'\n",
    "df_model['E6_CRAQUE_FERM'] = 'F'\n",
    "df_model['E7_CRAQUE'] = 'F'\n"
   ]
  },
  {
   "cell_type": "code",
   "execution_count": 220,
   "metadata": {},
   "outputs": [
    {
     "data": {
      "text/plain": [
       "Non    107\n",
       "Oui     31\n",
       "Name: QS11, dtype: int64"
      ]
     },
     "execution_count": 220,
     "metadata": {},
     "output_type": "execute_result"
    }
   ],
   "source": [
    "df['QS11'].value_counts()"
   ]
  },
  {
   "cell_type": "code",
   "execution_count": 223,
   "metadata": {},
   "outputs": [],
   "source": [
    "df_model['QS11'] = df['QS11'].apply(cleanOUI_NON_TO_TRUE_FALSE)"
   ]
  },
  {
   "cell_type": "code",
   "execution_count": 222,
   "metadata": {},
   "outputs": [
    {
     "data": {
      "text/plain": [
       "Non    107\n",
       "Oui     31\n",
       "Name: QS12, dtype: int64"
      ]
     },
     "execution_count": 222,
     "metadata": {},
     "output_type": "execute_result"
    }
   ],
   "source": [
    "df['QS12'].value_counts()"
   ]
  },
  {
   "cell_type": "code",
   "execution_count": 224,
   "metadata": {},
   "outputs": [],
   "source": [
    "df_model['QS12'] = df['QS12'].apply(cleanOUI_NON_TO_TRUE_FALSE)"
   ]
  },
  {
   "cell_type": "code",
   "execution_count": 226,
   "metadata": {},
   "outputs": [],
   "source": [
    "df_model['E8_BLOCAGE_OUVERT'] = 'F'"
   ]
  },
  {
   "cell_type": "code",
   "execution_count": 227,
   "metadata": {},
   "outputs": [
    {
     "data": {
      "text/plain": [
       "Non    90\n",
       "Oui    48\n",
       "Name: QS9, dtype: int64"
      ]
     },
     "execution_count": 227,
     "metadata": {},
     "output_type": "execute_result"
    }
   ],
   "source": [
    "df['QS9'].value_counts()"
   ]
  },
  {
   "cell_type": "code",
   "execution_count": 228,
   "metadata": {},
   "outputs": [
    {
     "data": {
      "text/plain": [
       "Non    98\n",
       "Oui    40\n",
       "Name: QS10, dtype: int64"
      ]
     },
     "execution_count": 228,
     "metadata": {},
     "output_type": "execute_result"
    }
   ],
   "source": [
    "df['QS10'].value_counts()"
   ]
  },
  {
   "cell_type": "code",
   "execution_count": 229,
   "metadata": {},
   "outputs": [],
   "source": [
    "df_model['QS9'] = df['QS9'].apply(cleanOUI_NON_TO_TRUE_FALSE)\n",
    "df_model['QS10'] = df['QS10'].apply(cleanOUI_NON_TO_TRUE_FALSE)"
   ]
  },
  {
   "cell_type": "code",
   "execution_count": 230,
   "metadata": {},
   "outputs": [
    {
     "data": {
      "text/plain": [
       "40    35\n",
       "42    15\n",
       "45    10\n",
       "35     9\n",
       "38     8\n",
       "30     6\n",
       "37     4\n",
       "25     4\n",
       "41     4\n",
       "33     3\n",
       "20     3\n",
       "27     3\n",
       "43     3\n",
       "34     2\n",
       "50     2\n",
       "44     2\n",
       "36     2\n",
       "52     2\n",
       "24     2\n",
       "28     2\n",
       "39     2\n",
       "31     2\n",
       "47     2\n",
       "55     1\n",
       "18     1\n",
       "14     1\n",
       "19     1\n",
       "22     1\n",
       "Name: E4C, dtype: int64"
      ]
     },
     "execution_count": 230,
     "metadata": {},
     "output_type": "execute_result"
    }
   ],
   "source": [
    "df['E4C'].value_counts()"
   ]
  },
  {
   "cell_type": "code",
   "execution_count": 279,
   "metadata": {},
   "outputs": [],
   "source": [
    "def preprocess_E4C_is_GREATER_THAN_40(x):\n",
    "    if x != 'nan':\n",
    "        if int(np.nan_to_num(x)) >= 40:\n",
    "            return 'T'\n",
    "        else:\n",
    "            return 'F'\n",
    "    else:\n",
    "        return 'F'"
   ]
  },
  {
   "cell_type": "code",
   "execution_count": 280,
   "metadata": {},
   "outputs": [],
   "source": [
    "df_model['E4C_OUVER_GREATER_40'] = df['E4C'].apply(preprocess_E4C_is_GREATER_THAN_40)"
   ]
  },
  {
   "cell_type": "code",
   "execution_count": 281,
   "metadata": {},
   "outputs": [],
   "source": [
    "df_model['E6_CREPITE_OUVER'] = 'F'\n",
    "df_model['E6_CREPITE_FERM'] = 'F'\n",
    "df_model['E7_CREPITE_OUVER'] = 'F'\n",
    "df_model['E7_CREPITE_FERM'] = 'F'\n"
   ]
  },
  {
   "cell_type": "code",
   "execution_count": 282,
   "metadata": {},
   "outputs": [
    {
     "data": {
      "text/plain": [
       "Non    118\n",
       "Oui     20\n",
       "Name: QS13, dtype: int64"
      ]
     },
     "execution_count": 282,
     "metadata": {},
     "output_type": "execute_result"
    }
   ],
   "source": [
    "df['QS13'].value_counts()"
   ]
  },
  {
   "cell_type": "code",
   "execution_count": 283,
   "metadata": {},
   "outputs": [
    {
     "data": {
      "text/plain": [
       "Non    120\n",
       "Oui     18\n",
       "Name: QS14, dtype: int64"
      ]
     },
     "execution_count": 283,
     "metadata": {},
     "output_type": "execute_result"
    }
   ],
   "source": [
    "df['QS14'].value_counts()"
   ]
  },
  {
   "cell_type": "code",
   "execution_count": 284,
   "metadata": {},
   "outputs": [],
   "source": [
    "df_model['QS13'] = df['QS13'].apply(cleanOUI_NON_TO_TRUE_FALSE)\n",
    "df_model['QS14'] = df['QS14'].apply(cleanOUI_NON_TO_TRUE_FALSE)"
   ]
  },
  {
   "cell_type": "code",
   "execution_count": 291,
   "metadata": {},
   "outputs": [],
   "source": [
    "df_model['ZONE'] = 'MAST'"
   ]
  },
  {
   "cell_type": "code",
   "execution_count": 292,
   "metadata": {},
   "outputs": [
    {
     "data": {
      "text/plain": [
       "(138, 61)"
      ]
     },
     "execution_count": 292,
     "metadata": {},
     "output_type": "execute_result"
    }
   ],
   "source": [
    "df_model.shape"
   ]
  },
  {
   "cell_type": "code",
   "execution_count": 298,
   "metadata": {},
   "outputs": [
    {
     "name": "stdout",
     "output_type": "stream",
     "text": [
      "{'QS3': 'b', 'QS4A': 'T', 'QS4B': 'T', 'QS4C': 'T', 'QS4D': 'T', 'E4B_HAB_MASSETER': 'F', 'E4C_HAB_MASSETER': 'F', 'E9_HAB_ZONE_SUB_REGION1': 'F', 'E9_HAB_ZONE_SUB_REGION2': 'F', 'E9_HAB_ZONE_SUB_REGION3': 'F', 'E10_HAB': 'F', 'E1A': 'F', 'ZONE': 'MAST', 'E9_REF_ZONE_SUB_REGION1': 'F', 'E9_REF_ZONE_SUB_REGION2': 'F', 'E9_REF_ZONE_SUB_REGION3': 'F', 'E10_REF': 'F', 'E9_PROPA_ZONE_SUB_REGION1': 'T', 'E9_PROPA_ZONE_SUB_REGION2': 'T', 'E9_PROPA_ZONE_SUB_REGION3': 'T', 'E10_PROPA_ZONE_SUB_REGION1': 'F', 'E10_PROPA_ZONE_SUB_REGION2': 'F', 'E10_PROPA_ZONE_SUB_REGION3': 'F', 'E5A_HAB': 'F', 'E5B_HAB': 'F', 'E5C_HAB': 'F', 'E1B': 'F', 'isTEMPORAL': 'F', 'QS5': 'F', 'QS7A': 'F', 'QS7B': 'F', 'QS7C': 'F', 'QS7D': 'F', 'E5A_MAL_TETE': 'F', 'E5B_MAL_TETE': 'F', 'E5C_MAL_TETE': 'F', 'E9_MAL_TETE_ZONE1': 'F', 'E9_MAL_TETE_ZONE2': 'F', 'E9_MAL_TETE_ZONE3': 'F', 'E4B_MAL_TETE': 'F', 'E4C_MAL_TETE': 'F', 'QS8': 'T', 'E6_CRAQUE_PATIENT': 'F', 'E6_CREPITE_PATIENT': 'F', 'E7_CRAQUE_PATIENT': 'F', 'E7_CREPITE_PATIENT': 'F', 'E6_CRAQUE_OUVERT': 'F', 'E6_CRAQUE_FERM': 'F', 'E7_CRAQUE': 'F', 'QS11': 'F', 'QS12': 'T', 'E8_BLOCAGE_OUVERT': 'F', 'QS9': 'F', 'QS10': 'T', 'E4C_OUVER_GREATER_40': 'F', 'E6_CREPITE_OUVER': 'F', 'E6_CREPITE_FERM': 'F', 'E7_CREPITE_OUVER': 'F', 'E7_CREPITE_FERM': 'F', 'QS13': 'F', 'QS14': 'F', 'E4B_HAB': 'F', 'E4C_HAB': 'F'}\n"
     ]
    }
   ],
   "source": [
    "oneLine = []\n",
    "oneLine = df_model.iloc[0].to_dict()\n",
    "print(oneLine)"
   ]
  },
  {
   "cell_type": "code",
   "execution_count": 300,
   "metadata": {},
   "outputs": [
    {
     "data": {
      "text/plain": [
       "{'AGE': '32',\n",
       " 'DC1': '40',\n",
       " 'DC2': '4',\n",
       " 'DC3': '4',\n",
       " 'DC4': '4',\n",
       " 'DC5': '10',\n",
       " 'DC6': '2',\n",
       " 'DC7': '2',\n",
       " 'DC8': '4',\n",
       " 'DD1': 'La douleur apparait et disparait',\n",
       " 'DD2': 'Oui',\n",
       " 'DD3A': 'Oui',\n",
       " 'DD3B': 'Oui',\n",
       " 'DD3C': 'Oui',\n",
       " 'DD3D': 'Oui',\n",
       " 'DEMO1': 'Marié(e)',\n",
       " 'DEMO2': 'Aude',\n",
       " 'DEMO3': \"Professions intermédiaires de l'enseignement, de la santé, de la fonction publique et asimilés\",\n",
       " 'DEMO4': 'Universitaire premier cycle',\n",
       " 'E10_REG_MAND_DOUL_D': 'N',\n",
       " 'E10_REG_MAND_DOUL_G': 'N',\n",
       " 'E10_REG_MAND_DOUL_HAB_D': 'N',\n",
       " 'E10_REG_MAND_DOUL_HAB_G': 'N',\n",
       " 'E10_REG_MAND_DOUL_REF_D': 'N',\n",
       " 'E10_REG_MAND_DOUL_REF_G': 'N',\n",
       " 'E10_REG_PTER_DOUL_D': 'Y',\n",
       " 'E10_REG_PTER_DOUL_G': 'Y',\n",
       " 'E10_REG_PTER_DOUL_HAB_D': 'N',\n",
       " 'E10_REG_PTER_DOUL_HAB_G': 'N',\n",
       " 'E10_REG_PTER_DOUL_REF_D': 'N',\n",
       " 'E10_REG_PTER_DOUL_REF_G': 'N',\n",
       " 'E10_REG_SOUS_DOUL_D': 'Y',\n",
       " 'E10_REG_SOUS_DOUL_G': 'Y',\n",
       " 'E10_REG_SOUS_DOUL_HAB_D': 'N',\n",
       " 'E10_REG_SOUS_DOUL_HAB_G': 'N',\n",
       " 'E10_REG_SOUS_DOUL_REF_D': 'N',\n",
       " 'E10_REG_SOUS_DOUL_REF_G': 'N',\n",
       " 'E10_TEND_DOUL_D': 'N',\n",
       " 'E10_TEND_DOUL_G': 'Y',\n",
       " 'E10_TEND_DOUL_HAB_D': 'Y',\n",
       " 'E10_TEND_DOUL_HAB_G': 'N',\n",
       " 'E10_TEND_DOUL_REF_D': 'N',\n",
       " 'E10_TEND_DOUL_REF_G': 'N',\n",
       " 'E11_AD': nan,\n",
       " 'E11_ATMD': nan,\n",
       " 'E11_ATMG': nan,\n",
       " 'E11_DATMD': 'Déplacement du disque avec réduction et blocage interminent',\n",
       " 'E11_DATMG': 'Non',\n",
       " 'E11_DD': 'MyalgieMasseterGauche',\n",
       " 'E11_MTAD': nan,\n",
       " 'E11_MYO_D_D': nan,\n",
       " 'E11_MYO_D_G': nan,\n",
       " 'E11_MYO_M_D': nan,\n",
       " 'E11_MYO_M_G': nan,\n",
       " 'E11_MYO_T_D': nan,\n",
       " 'E11_MYO_T_G': nan,\n",
       " 'E11_MY_D_D': nan,\n",
       " 'E11_MY_D_G': nan,\n",
       " 'E11_MY_M_D': nan,\n",
       " 'E11_MY_M_G': nan,\n",
       " 'E11_MY_P_D': nan,\n",
       " 'E11_MY_P_G': nan,\n",
       " 'E11_MY_T_D': nan,\n",
       " 'E11_MY_T_G': nan,\n",
       " 'E11_NO': nan,\n",
       " 'E12': '+ TCC et éducation thérapeutique ',\n",
       " 'E13_ET': nan,\n",
       " 'E13_HYP': nan,\n",
       " 'E13_KIN': nan,\n",
       " 'E13_OO': nan,\n",
       " 'E13_TB': nan,\n",
       " 'E13_TCC': nan,\n",
       " 'E13_TP': nan,\n",
       " 'E13_Trait': 'Orthèse occlusale',\n",
       " 'E1B_D': 'Non',\n",
       " 'E1B_G': 'Temporal',\n",
       " 'E1_DOUL_D_ATM': 'NA',\n",
       " 'E1_DOUL_D_DIGASTRIQUEPOS': 'NA',\n",
       " 'E1_DOUL_D_MASSETER_BODY': 'NA',\n",
       " 'E1_DOUL_D_MASSETER_INSERTION': 'NA',\n",
       " 'E1_DOUL_D_MASSETER_ORIGIN': 'NA',\n",
       " 'E1_DOUL_D_PTERIGOIDIENMEDIAL': 'NA',\n",
       " 'E1_DOUL_D_TEMPORAL_ANTERIOR': 'NA',\n",
       " 'E1_DOUL_D_TEMPORAL_MIDDLE': 'NA',\n",
       " 'E1_DOUL_D_TEMPORAL_POSTERIOR': 'NA',\n",
       " 'E1_DOUL_G_ATM': 'NA',\n",
       " 'E1_DOUL_G_DIGASTRIQUEPOS': 'NA',\n",
       " 'E1_DOUL_G_MASSETER_BODY': 'NA',\n",
       " 'E1_DOUL_G_MASSETER_INSERTION': 'NA',\n",
       " 'E1_DOUL_G_MASSETER_ORIGIN': 'NA',\n",
       " 'E1_DOUL_G_PTERIGOIDIENMEDIAL': 'NA',\n",
       " 'E1_DOUL_G_TEMPORAL_ANTERIOR': 'NA',\n",
       " 'E1_DOUL_G_TEMPORAL_MIDDLE': 'NA',\n",
       " 'E1_DOUL_G_TEMPORAL_POSTERIOR': 'NA',\n",
       " 'E2DIST_H': '0',\n",
       " 'E2DIST_MEDIA': '0',\n",
       " 'E2DIST_V': '0',\n",
       " 'E2NEG_H': 'posittif',\n",
       " 'E2NEG_V': 'posittif',\n",
       " 'E2REF': 'Null',\n",
       " 'E4A': '30',\n",
       " 'E4B': '35',\n",
       " 'E4C': '36',\n",
       " 'E4D': 'N',\n",
       " 'E4_MA_D_ATM': 'NA',\n",
       " 'E4_MA_D_DIGASTRIQUEPOS': 'NA',\n",
       " 'E4_MA_D_MASSETER_BODY': 'D',\n",
       " 'E4_MA_D_MASSETER_INSERTION': 'D',\n",
       " 'E4_MA_D_MASSETER_ORIGIN': 'D',\n",
       " 'E4_MA_D_PTERIGOIDIENMEDIAL': 'NA',\n",
       " 'E4_MA_D_TEMPORAL_ANTERIOR': 'DH',\n",
       " 'E4_MA_D_TEMPORAL_MIDDLE': 'DH',\n",
       " 'E4_MA_D_TEMPORAL_POSTERIOR': 'DH',\n",
       " 'E4_MA_G_ATM': 'NA',\n",
       " 'E4_MA_G_DIGASTRIQUEPOS': 'NA',\n",
       " 'E4_MA_G_MASSETER_BODY': 'D',\n",
       " 'E4_MA_G_MASSETER_INSERTION': 'D',\n",
       " 'E4_MA_G_MASSETER_ORIGIN': 'D',\n",
       " 'E4_MA_G_PTERIGOIDIENMEDIAL': 'NA',\n",
       " 'E4_MA_G_TEMPORAL_ANTERIOR': 'NA',\n",
       " 'E4_MA_G_TEMPORAL_MIDDLE': 'NA',\n",
       " 'E4_MA_G_TEMPORAL_POSTERIOR': 'NA',\n",
       " 'E4_MA_MT_D_TEMPORAL_ANTERIOR': nan,\n",
       " 'E4_MA_MT_D_TEMPORAL_MIDDLE': nan,\n",
       " 'E4_MA_MT_D_TEMPORAL_POSTERIOR': nan,\n",
       " 'E4_MA_MT_G_TEMPORAL_ANTERIOR': nan,\n",
       " 'E4_MA_MT_G_TEMPORAL_MIDDLE': nan,\n",
       " 'E4_MA_MT_G_TEMPORAL_POSTERIOR': nan,\n",
       " 'E4_MS_D_ATM': 'NA',\n",
       " 'E4_MS_D_DIGASTRIQUEPOS': 'NA',\n",
       " 'E4_MS_D_MASSETER_BODY': 'D',\n",
       " 'E4_MS_D_MASSETER_INSERTION': 'D',\n",
       " 'E4_MS_D_MASSETER_ORIGIN': 'D',\n",
       " 'E4_MS_D_PTERIGOIDIENMEDIAL': 'NA',\n",
       " 'E4_MS_D_TEMPORAL_ANTERIOR': 'D',\n",
       " 'E4_MS_D_TEMPORAL_MIDDLE': 'D',\n",
       " 'E4_MS_D_TEMPORAL_POSTERIOR': 'D',\n",
       " 'E4_MS_G_ATM': 'NA',\n",
       " 'E4_MS_G_DIGASTRIQUEPOS': 'NA',\n",
       " 'E4_MS_G_MASSETER_BODY': 'DH',\n",
       " 'E4_MS_G_MASSETER_INSERTION': 'DH',\n",
       " 'E4_MS_G_MASSETER_ORIGIN': 'DH',\n",
       " 'E4_MS_G_PTERIGOIDIENMEDIAL': 'NA',\n",
       " 'E4_MS_G_TEMPORAL_ANTERIOR': 'NA',\n",
       " 'E4_MS_G_TEMPORAL_MIDDLE': 'NA',\n",
       " 'E4_MS_G_TEMPORAL_POSTERIOR': 'NA',\n",
       " 'E4_MS_MT_D_TEMPORAL_ANTERIOR': nan,\n",
       " 'E4_MS_MT_D_TEMPORAL_MIDDLE': nan,\n",
       " 'E4_MS_MT_D_TEMPORAL_POSTERIOR': nan,\n",
       " 'E4_MS_MT_G_TEMPORAL_ANTERIOR': nan,\n",
       " 'E4_MS_MT_G_TEMPORAL_MIDDLE': nan,\n",
       " 'E4_MS_MT_G_TEMPORAL_POSTERIOR': nan,\n",
       " 'E5A': '08',\n",
       " 'E5B': '12',\n",
       " 'E5C': '12',\n",
       " 'E5D': 'N',\n",
       " 'E5_LD_D_ATM': 'NA',\n",
       " 'E5_LD_D_DIGASTRIQUEPOS': 'NA',\n",
       " 'E5_LD_D_MASSETER_BODY': 'NA',\n",
       " 'E5_LD_D_MASSETER_INSERTION': 'NA',\n",
       " 'E5_LD_D_MASSETER_ORIGIN': 'NA',\n",
       " 'E5_LD_D_PTERIGOIDIENMEDIAL': 'NA',\n",
       " 'E5_LD_D_TEMPORAL_ANTERIOR': 'NA',\n",
       " 'E5_LD_D_TEMPORAL_MIDDLE': 'NA',\n",
       " 'E5_LD_D_TEMPORAL_POSTERIOR': 'NA',\n",
       " 'E5_LD_G_ATM': 'NA',\n",
       " 'E5_LD_G_DIGASTRIQUEPOS': 'NA',\n",
       " 'E5_LD_G_MASSETER_BODY': 'NA',\n",
       " 'E5_LD_G_MASSETER_INSERTION': 'NA',\n",
       " 'E5_LD_G_MASSETER_ORIGIN': 'NA',\n",
       " 'E5_LD_G_PTERIGOIDIENMEDIAL': 'NA',\n",
       " 'E5_LD_G_TEMPORAL_ANTERIOR': 'NA',\n",
       " 'E5_LD_G_TEMPORAL_MIDDLE': 'NA',\n",
       " 'E5_LD_G_TEMPORAL_POSTERIOR': 'NA',\n",
       " 'E5_LD_MT_D_TEMPORAL_ANTERIOR': nan,\n",
       " 'E5_LD_MT_D_TEMPORAL_MIDDLE': nan,\n",
       " 'E5_LD_MT_D_TEMPORAL_POSTERIOR': nan,\n",
       " 'E5_LD_MT_G_TEMPORAL_ANTERIOR': nan,\n",
       " 'E5_LD_MT_G_TEMPORAL_MIDDLE': nan,\n",
       " 'E5_LD_MT_G_TEMPORAL_POSTERIOR': nan,\n",
       " 'E5_LG_D_ATM': 'NA',\n",
       " 'E5_LG_D_DIGASTRIQUEPOS': 'NA',\n",
       " 'E5_LG_D_MASSETER_BODY': 'NA',\n",
       " 'E5_LG_D_MASSETER_INSERTION': 'NA',\n",
       " 'E5_LG_D_MASSETER_ORIGIN': 'NA',\n",
       " 'E5_LG_D_PTERIGOIDIENMEDIAL': 'NA',\n",
       " 'E5_LG_D_TEMPORAL_ANTERIOR': 'NA',\n",
       " 'E5_LG_D_TEMPORAL_MIDDLE': 'NA',\n",
       " 'E5_LG_D_TEMPORAL_POSTERIOR': 'NA',\n",
       " 'E5_LG_G_ATM': 'NA',\n",
       " 'E5_LG_G_DIGASTRIQUEPOS': 'NA',\n",
       " 'E5_LG_G_MASSETER_BODY': 'NA',\n",
       " 'E5_LG_G_MASSETER_INSERTION': 'NA',\n",
       " 'E5_LG_G_MASSETER_ORIGIN': 'NA',\n",
       " 'E5_LG_G_PTERIGOIDIENMEDIAL': 'NA',\n",
       " 'E5_LG_G_TEMPORAL_ANTERIOR': 'NA',\n",
       " 'E5_LG_G_TEMPORAL_MIDDLE': 'NA',\n",
       " 'E5_LG_G_TEMPORAL_POSTERIOR': 'NA',\n",
       " 'E5_LG_MT_D_TEMPORAL_ANTERIOR': nan,\n",
       " 'E5_LG_MT_D_TEMPORAL_MIDDLE': nan,\n",
       " 'E5_LG_MT_D_TEMPORAL_POSTERIOR': nan,\n",
       " 'E5_LG_MT_G_TEMPORAL_ANTERIOR': nan,\n",
       " 'E5_LG_MT_G_TEMPORAL_MIDDLE': nan,\n",
       " 'E5_LG_MT_G_TEMPORAL_POSTERIOR': nan,\n",
       " 'E5_PI_D_ATM': 'NA',\n",
       " 'E5_PI_D_DIGASTRIQUEPOS': 'NA',\n",
       " 'E5_PI_D_MASSETER_BODY': 'NA',\n",
       " 'E5_PI_D_MASSETER_INSERTION': 'NA',\n",
       " 'E5_PI_D_MASSETER_ORIGIN': 'NA',\n",
       " 'E5_PI_D_PTERIGOIDIENMEDIAL': 'NA',\n",
       " 'E5_PI_D_TEMPORAL_ANTERIOR': 'NA',\n",
       " 'E5_PI_D_TEMPORAL_MIDDLE': 'NA',\n",
       " 'E5_PI_D_TEMPORAL_POSTERIOR': 'NA',\n",
       " 'E5_PI_G_ATM': 'NA',\n",
       " 'E5_PI_G_DIGASTRIQUEPOS': 'NA',\n",
       " 'E5_PI_G_MASSETER_BODY': 'NA',\n",
       " 'E5_PI_G_MASSETER_INSERTION': 'NA',\n",
       " 'E5_PI_G_MASSETER_ORIGIN': 'NA',\n",
       " 'E5_PI_G_PTERIGOIDIENMEDIAL': 'NA',\n",
       " 'E5_PI_G_TEMPORAL_ANTERIOR': 'NA',\n",
       " 'E5_PI_G_TEMPORAL_MIDDLE': 'NA',\n",
       " 'E5_PI_G_TEMPORAL_POSTERIOR': 'NA',\n",
       " 'E5_PI_MT_D_TEMPORAL_ANTERIOR': nan,\n",
       " 'E5_PI_MT_D_TEMPORAL_MIDDLE': nan,\n",
       " 'E5_PI_MT_D_TEMPORAL_POSTERIOR': nan,\n",
       " 'E5_PI_MT_G_TEMPORAL_ANTERIOR': nan,\n",
       " 'E5_PI_MT_G_TEMPORAL_MIDDLE': nan,\n",
       " 'E5_PI_MT_G_TEMPORAL_POSTERIOR': nan,\n",
       " 'E6_CRAQ_DOUL_D': 'N',\n",
       " 'E6_CRAQ_DOUL_G': 'N',\n",
       " 'E6_CRAQ_DOUL_HAB_D': 'Y',\n",
       " 'E6_CRAQ_DOUL_HAB_G': 'N',\n",
       " 'E6_CRAQ_FERM_D': 'N',\n",
       " 'E6_CRAQ_FERM_G': 'N',\n",
       " 'E6_CRAQ_OUV_D': 'Y',\n",
       " 'E6_CRAQ_OUV_G': 'N',\n",
       " 'E6_CRAQ_PAT_D': 'Y',\n",
       " 'E6_CRAQ_PAT_G': 'N',\n",
       " 'E6_CREP_DOUL_D': 'N',\n",
       " 'E6_CREP_DOUL_G': 'N',\n",
       " 'E6_CREP_DOUL_HAB_G': 'N',\n",
       " 'E6_CREP_DOU_HAB_D': 'N',\n",
       " 'E6_CREP_FERM_D': 'N',\n",
       " 'E6_CREP_FERM_G': 'N',\n",
       " 'E6_CREP_OUV_D': 'Y',\n",
       " 'E6_CREP_OUV_G': 'N',\n",
       " 'E6_CREP_PAT_D': 'N',\n",
       " 'E6_CREP_PAT_G': 'N',\n",
       " 'E7_CRAQ_DOUL_D': 'N',\n",
       " 'E7_CRAQ_DOUL_G': 'N',\n",
       " 'E7_CRAQ_DOUL_HAB_D': 'N',\n",
       " 'E7_CRAQ_DOUL_HAB_G': 'N',\n",
       " 'E7_CRAQ_FERM_D': 'N',\n",
       " 'E7_CRAQ_FERM_G': 'N',\n",
       " 'E7_CRAQ_OUV_D': 'N',\n",
       " 'E7_CRAQ_OUV_G': 'N',\n",
       " 'E7_CRAQ_PAT_D': 'N',\n",
       " 'E7_CRAQ_PAT_G': 'N',\n",
       " 'E7_CREP_DOUL_D': 'N',\n",
       " 'E7_CREP_DOUL_G': 'N',\n",
       " 'E7_CREP_DOUL_HAB_D': 'Y',\n",
       " 'E7_CREP_DOUL_HAB_G': 'N',\n",
       " 'E7_CREP_FERM_D': 'N',\n",
       " 'E7_CREP_FERM_G': 'N',\n",
       " 'E7_CREP_OUV_D': 'Y',\n",
       " 'E7_CREP_OUV_G': 'N',\n",
       " 'E7_CREP_PAT_D': 'Y',\n",
       " 'E7_CREP_PAT_G': 'N',\n",
       " 'E8_OUVERT_BLOC_D': 'N',\n",
       " 'E8_OUVERT_BLOC_G': 'N',\n",
       " 'E8_OUVERT_EXAM_D': 'N',\n",
       " 'E8_OUVERT_EXAM_G': 'N',\n",
       " 'E8_OUVERT_PAT_D': 'N',\n",
       " 'E8_OUVERT_PAT_G': 'N',\n",
       " 'E8_OUVRANT_BLOC_D': 'Y',\n",
       " 'E8_OUVRANT_BLOC_G': 'N',\n",
       " 'E8_OUVRANT_EXAM_D': 'N',\n",
       " 'E8_OUVRANT_EXAM_G': 'N',\n",
       " 'E8_OUVRANT_PAT_D': 'Y',\n",
       " 'E8_OUVRANT_PAT_G': 'N',\n",
       " 'E9_AL_DH_D': 'Y',\n",
       " 'E9_AL_DH_G': 'Y',\n",
       " 'E9_AL_DOU_REF_D': 'N',\n",
       " 'E9_AL_MTH_D': 'N',\n",
       " 'E9_AL_MTH_G': 'N',\n",
       " 'E9_PALP_D_ATM': 'NA',\n",
       " 'E9_PALP_D_DIGASTRIQUEPOS': 'DH',\n",
       " 'E9_PALP_D_MASSETER_BODY': 'D',\n",
       " 'E9_PALP_D_MASSETER_INSERTION': 'D',\n",
       " 'E9_PALP_D_MASSETER_ORIGIN': 'D',\n",
       " 'E9_PALP_D_PTERIGOIDIENMEDIAL': 'NA',\n",
       " 'E9_PALP_D_TEMPORAL_ANTERIOR': 'NA',\n",
       " 'E9_PALP_D_TEMPORAL_MIDDLE': 'D',\n",
       " 'E9_PALP_D_TEMPORAL_POSTERIOR': 'NA',\n",
       " 'E9_PALP_G_ATM': 'NA',\n",
       " 'E9_PALP_G_DIGASTRIQUEPOS': 'NA',\n",
       " 'E9_PALP_G_MASSETER_BODY': 'D',\n",
       " 'E9_PALP_G_MASSETER_INSERTION': 'D',\n",
       " 'E9_PALP_G_MASSETER_ORIGIN': 'D',\n",
       " 'E9_PALP_G_PTERIGOIDIENMEDIAL': 'NA',\n",
       " 'E9_PALP_G_TEMPORAL_ANTERIOR': 'NA',\n",
       " 'E9_PALP_G_TEMPORAL_MIDDLE': 'D',\n",
       " 'E9_PALP_G_TEMPORAL_POSTERIOR': 'NA',\n",
       " 'E9_PALP_MT_D_TEMPORAL_ANTERIOR': nan,\n",
       " 'E9_PALP_MT_D_TEMPORAL_MIDDLE': nan,\n",
       " 'E9_PALP_MT_D_TEMPORAL_POSTERIOR': nan,\n",
       " 'E9_PALP_MT_G_TEMPORAL_ANTERIOR': nan,\n",
       " 'E9_PALP_MT_G_TEMPORAL_MIDDLE': nan,\n",
       " 'E9_PALP_MT_G_TEMPORAL_POSTERIOR': nan,\n",
       " 'E9_PL_DH_D': 'N',\n",
       " 'E9_PL_DH_G': 'N',\n",
       " 'E9_PL_DOU_REF_D': 'N',\n",
       " 'E9_PL_DOU_REF_G': 'N',\n",
       " 'E9_PL_MTH_D': 'Y',\n",
       " 'E9_PL_MTH_G': 'Y',\n",
       " 'FIRST_NAME': 'Marine',\n",
       " 'FM201': nan,\n",
       " 'FM2010': nan,\n",
       " 'FM2011': nan,\n",
       " 'FM2012': nan,\n",
       " 'FM202': nan,\n",
       " 'FM203': nan,\n",
       " 'FM204': nan,\n",
       " 'FM205': nan,\n",
       " 'FM206': nan,\n",
       " 'FM207': nan,\n",
       " 'FM208': nan,\n",
       " 'FM209': nan,\n",
       " 'FM81': '4',\n",
       " 'FM82': '4',\n",
       " 'FM83': '1',\n",
       " 'FM84': '6',\n",
       " 'FM85': '1',\n",
       " 'FM86': '6',\n",
       " 'FM87': '2',\n",
       " 'FM88': '2',\n",
       " 'GAD1': '2',\n",
       " 'GAD2': '2',\n",
       " 'GAD3': '2',\n",
       " 'GAD4': '3',\n",
       " 'GAD5': '2',\n",
       " 'GAD6': '1',\n",
       " 'GAD7': '1',\n",
       " 'LAST_NAME': 'Aubertin',\n",
       " 'MD1': '40',\n",
       " 'MD_MOR_D_ATM': 'NA',\n",
       " 'MD_MOR_D_DIGASTRIQUEPOS': 'NA',\n",
       " 'MD_MOR_D_MASSETER_BODY': 'NA',\n",
       " 'MD_MOR_D_MASSETER_INSERTION': 'NA',\n",
       " 'MD_MOR_D_MASSETER_ORIGIN': 'NA',\n",
       " 'MD_MOR_D_PTERIGOIDIENMEDIAL': 'NA',\n",
       " 'MD_MOR_D_TEMPORAL_ANTERIOR': 'NA',\n",
       " 'MD_MOR_D_TEMPORAL_MIDDLE': 'NA',\n",
       " 'MD_MOR_D_TEMPORAL_POSTERIOR': 'NA',\n",
       " 'MD_MOR_G_ATM': 'NA',\n",
       " 'MD_MOR_G_DIGASTRIQUEPOS': 'NA',\n",
       " 'MD_MOR_G_MASSETER_BODY': 'NA',\n",
       " 'MD_MOR_G_MASSETER_INSERTION': 'NA',\n",
       " 'MD_MOR_G_MASSETER_ORIGIN': 'NA',\n",
       " 'MD_MOR_G_PTERIGOIDIENMEDIAL': 'NA',\n",
       " 'MD_MOR_G_TEMPORAL_ANTERIOR': 'NA',\n",
       " 'MD_MOR_G_TEMPORAL_MIDDLE': 'NA',\n",
       " 'MD_MOR_G_TEMPORAL_POSTERIOR': 'NA',\n",
       " 'OBC1': '4-7 Nuit/semaine',\n",
       " 'OBC10': '1-3 Nuit/mois',\n",
       " 'OBC11': '4-7 Nuit/semaine',\n",
       " 'OBC12': '1 Nuit/mois',\n",
       " 'OBC13': '1 Nuit/mois',\n",
       " 'OBC14': 'Jamais',\n",
       " 'OBC15': '1 Nuit/mois',\n",
       " 'OBC16': '1-3 Nuit/semaine',\n",
       " 'OBC17': 'Jamais',\n",
       " 'OBC18': '4-7 Nuit/semaine',\n",
       " 'OBC19': '1 Nuit/mois',\n",
       " 'OBC2': '1-3 Nuit/semaine',\n",
       " 'OBC20': '1 Nuit/mois',\n",
       " 'OBC21': '1 Nuit/mois',\n",
       " 'OBC3': 'Jamais',\n",
       " 'OBC4': '4-7 Nuit/semaine',\n",
       " 'OBC5': '4-7 Nuit/semaine',\n",
       " 'OBC6': '4-7 Nuit/semaine',\n",
       " 'OBC7': '1-3 Nuit/mois',\n",
       " 'OBC8': '1-3 Nuit/mois',\n",
       " 'OBC9': '1-3 Nuit/mois',\n",
       " 'PHQ41': '3',\n",
       " 'PHQ42': '3',\n",
       " 'PHQ43': '2',\n",
       " 'PHQ44': '1',\n",
       " 'PHQ91': '2',\n",
       " 'PHQ92': '2',\n",
       " 'PHQ93': '0',\n",
       " 'PHQ94': '1',\n",
       " 'PHQ95': '1',\n",
       " 'PHQ96': '1',\n",
       " 'PHQ97': '1',\n",
       " 'QS1': 'Oui',\n",
       " 'QS10': 'Oui',\n",
       " 'QS10E': 'D',\n",
       " 'QS11': 'Non',\n",
       " 'QS11E': 'NSP',\n",
       " 'QS12': 'Oui',\n",
       " 'QS12E': 'D',\n",
       " 'QS13': 'Non',\n",
       " 'QS13E': 'NSP',\n",
       " 'QS14': 'Non',\n",
       " 'QS14E': 'NSP',\n",
       " 'QS2': '24',\n",
       " 'QS3': 'Douleur qui vient et part',\n",
       " 'QS4A': 'Oui',\n",
       " 'QS4B': 'Oui',\n",
       " 'QS4C': 'Oui',\n",
       " 'QS5': 'Non',\n",
       " 'QS6': '0',\n",
       " 'QS7A': 'Non',\n",
       " 'QS7B': 'Non',\n",
       " 'QS7C': 'Non',\n",
       " 'QS7D': 'Non',\n",
       " 'QS8': 'Oui',\n",
       " 'QS8E': 'D',\n",
       " 'QS9': 'Non',\n",
       " 'QS9E': 'NSP',\n",
       " 'SEXE': 'Femme',\n",
       " 'QS4D': 'Oui'}"
      ]
     },
     "execution_count": 300,
     "metadata": {},
     "output_type": "execute_result"
    }
   ],
   "source": [
    "df.iloc[0].to_dict()"
   ]
  },
  {
   "cell_type": "code",
   "execution_count": 301,
   "metadata": {},
   "outputs": [
    {
     "data": {
      "text/plain": [
       "MyalgieATMDroit                6\n",
       "MyalgieTemporalDroit           6\n",
       "MyalgieTemporalGauche          3\n",
       "MyalgieMasseterDroit           3\n",
       "MyalgieMasseterGauche          2\n",
       "MyalgieATMGauche               2\n",
       "MyalgieAutres musclesGauche    1\n",
       "NonATMDroit                    1\n",
       "Name: E11_DD, dtype: int64"
      ]
     },
     "execution_count": 301,
     "metadata": {},
     "output_type": "execute_result"
    }
   ],
   "source": [
    "df['E11_DD'].value_counts()"
   ]
  },
  {
   "cell_type": "code",
   "execution_count": 302,
   "metadata": {},
   "outputs": [],
   "source": [
    "def preprocess_Y_MASSETER_DROIT(x):\n",
    "    if x == 'MyalgieMasseterDroit':\n",
    "        return 'MYALGIE'\n",
    "    if x == 'DouleurMyofascialeRéféréeMasseterDroit':\n",
    "        return 'DOULEUR_MYOFASCIALE_AVEC_REF'\n",
    "    if x == 'ArthralgieMasseterDroit':\n",
    "        return 'ARTHRALGIE'\n",
    "    if x == 'DouleurMyofascialeMasseterDroit':\n",
    "        return 'DOULEUR_MYOFASCIALE'\n",
    "    else:\n",
    "        return 'NO_DISORDER'"
   ]
  },
  {
   "cell_type": "code",
   "execution_count": 303,
   "metadata": {},
   "outputs": [],
   "source": [
    "Y_MASSETER_DROIT = pd.DataFrame()\n",
    "Y_MASSETER_DROIT['Y'] = df['E11_DD'].apply(preprocess_Y_MASSETER_DROIT)"
   ]
  },
  {
   "cell_type": "code",
   "execution_count": 304,
   "metadata": {},
   "outputs": [
    {
     "data": {
      "text/plain": [
       "NO_DISORDER    135\n",
       "MYALGIE          3\n",
       "Name: Y, dtype: int64"
      ]
     },
     "execution_count": 304,
     "metadata": {},
     "output_type": "execute_result"
    }
   ],
   "source": [
    "Y_MASSETER_DROIT['Y'].value_counts()"
   ]
  },
  {
   "cell_type": "code",
   "execution_count": 308,
   "metadata": {},
   "outputs": [],
   "source": [
    "def preprocess_N_Y_TO_TRUE_FALSE(x):\n",
    "    if x == 'Y':\n",
    "        return 'T'\n",
    "    else:\n",
    "        return 'F'"
   ]
  },
  {
   "cell_type": "code",
   "execution_count": 305,
   "metadata": {},
   "outputs": [
    {
     "data": {
      "text/plain": [
       "N    75\n",
       "Y    29\n",
       "Name: E11_MY_M_D, dtype: int64"
      ]
     },
     "execution_count": 305,
     "metadata": {},
     "output_type": "execute_result"
    }
   ],
   "source": [
    "df['E11_MY_M_D'].value_counts()"
   ]
  },
  {
   "cell_type": "code",
   "execution_count": null,
   "metadata": {},
   "outputs": [],
   "source": []
  }
 ],
 "metadata": {
  "kernelspec": {
   "display_name": "Python 3",
   "language": "python",
   "name": "python3"
  },
  "language_info": {
   "codemirror_mode": {
    "name": "ipython",
    "version": 3
   },
   "file_extension": ".py",
   "mimetype": "text/x-python",
   "name": "python",
   "nbconvert_exporter": "python",
   "pygments_lexer": "ipython3",
   "version": "3.7.3"
  }
 },
 "nbformat": 4,
 "nbformat_minor": 2
}
